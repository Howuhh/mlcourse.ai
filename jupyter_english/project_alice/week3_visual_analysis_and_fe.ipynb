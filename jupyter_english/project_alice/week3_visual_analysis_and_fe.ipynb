{
 "cells": [
  {
   "cell_type": "markdown",
   "metadata": {},
   "source": [
    "<center>\n",
    "<img src=\"../../img/ods_stickers.jpg\" />\n",
    "    \n",
    "## [mlcourse.ai](mlcourse.ai) – Open Machine Learning Course \n",
    "Author: [Yury Kashnitskiy](https://yorko.github.io) (@yorko). Translated by Gleb Filatov (@gleb_filatov). This material is subject to the terms and conditions of the [Creative Commons CC BY-NC-SA 4.0](https://creativecommons.org/licenses/by-nc-sa/4.0/) license. Free use is permitted for any non-commercial purpose. This material is a translated version of the Capstone project (by the same author) from specialization \"Machine learning and data analysis\" by Yandex and MIPT. No solutions shared."
   ]
  },
  {
   "cell_type": "markdown",
   "metadata": {},
   "source": [
    "# <center> Project \"Alice\". User Identification Based on Visited Websites\n",
    "## <center> Week 3. Visual data analysis, and feature engineering\n",
    "    \n",
    "This week, we will start doing data exploration via plots as well as some feature engineering. We'll build and explore some features for you so you can build up on this and be able to make features on your own. "
   ]
  },
  {
   "cell_type": "markdown",
   "metadata": {},
   "source": [
    "**Week 3 roadmap**\n",
    "- Part 1. Feature engineering\n",
    "- Part 2. Visual data exploration\n",
    "- Part 3. Further feature engineering\n",
    "- Part 4. Validation of prepared features"
   ]
  },
  {
   "cell_type": "markdown",
   "metadata": {},
   "source": [
    "In this task we will extensively utilize **seaborn** library (you can install it by using *pip install seaborn* command). Also it will be helpful to take a look at [matplotlib](http://matplotlib.org/users/) and [seaborn](http://seaborn.pydata.org/) docs."
   ]
  },
  {
   "cell_type": "markdown",
   "metadata": {},
   "source": [
    "**Your task**\n",
    "1. Fill in the missing code in the provided notebook\n",
    "2. Choose the answers in the [form](https://docs.google.com/forms/d/19AKGoSekzO-exZhFWsCHSb3-wR-KT_ATtREKdPWKd24)"
   ]
  },
  {
   "cell_type": "markdown",
   "metadata": {},
   "source": [
    "## Part 1. Feature engineering"
   ]
  },
  {
   "cell_type": "code",
   "execution_count": 2,
   "metadata": {},
   "outputs": [],
   "source": [
    "import os\n",
    "import warnings\n",
    "import pickle\n",
    "\n",
    "import numpy as np\n",
    "import pandas as pd\n",
    "import seaborn as sns\n",
    "\n",
    "from glob import glob\n",
    "\n",
    "from tqdm import tqdm_notebook\n",
    "\n",
    "from matplotlib import pyplot as plt\n",
    "\n",
    "\n",
    "# disable Anaconda warnings\n",
    "warnings.filterwarnings('ignore')\n",
    "# pandas head options\n",
    "pd.set_option('display.max.columns', 25)"
   ]
  },
  {
   "cell_type": "code",
   "execution_count": 3,
   "metadata": {},
   "outputs": [],
   "source": [
    "# change the path to data if necessary\n",
    "PATH_TO_DATA = '../../data/capstone_user_identification'"
   ]
  },
  {
   "cell_type": "markdown",
   "metadata": {},
   "source": [
    "Create a new function *prepare_train_set_with_fe*, based on *prepare_train_set* and *prepare_sparse_train_set_window*, which will produce following features:\n",
    "\n",
    "- session_timespan - session duration in seconds (difference between maximal and minimal website visit time in one session)\n",
    "- #unique_sites - number of unique sites in session\n",
    "- start_hour - hour, when session started (hour of the minimal timestamp of this session)\n",
    "- day_of_week - day of week (day of the minimal timestamp of this session)"
   ]
  },
  {
   "cell_type": "markdown",
   "metadata": {},
   "source": [
    "Function should return a new DataFrame (just like function *prepare_train_set* did) but with **4 more features**. The <font color = 'red'>order</font>, in which features are added is the following - **site1, ..., site10, session_timespan, #unique_sites, start_hour, day_of_week, user_id.**"
   ]
  },
  {
   "cell_type": "code",
   "execution_count": 4,
   "metadata": {},
   "outputs": [],
   "source": [
    "# utils functions\n",
    "def pad_seq(seq, width, value):\n",
    "    return np.pad(seq, pad_width=(0, width), mode=\"constant\", constant_values=value)\n",
    "\n",
    "def window_with_times(array, session_length=10, window_size=10):\n",
    "    # input: array with columns: timestamp, site\n",
    "    start = 0\n",
    "    end = array.shape[0]\n",
    "    \n",
    "    while start < end:\n",
    "        end_time = array[start:start+session_length, 0].max()\n",
    "        start_time = array[start:start+session_length, 0].min()\n",
    "        \n",
    "        data_slice = array[start:start+session_length, 1]\n",
    "        # time features         \n",
    "        session_duration = (end_time - start_time) / np.timedelta64(1, 's')\n",
    "        session_start_hour = start_time.hour\n",
    "        session_start_dow = start_time.dayofweek\n",
    "        unquie_sites = np.unique(data_slice).shape[0]\n",
    "    \n",
    "        if len(data_slice) < session_length:\n",
    "            # if slice len < session len -> pad with zeros up to session len           \n",
    "            data_slice = pad_seq(data_slice, width=session_length-len(data_slice), value=0)\n",
    "        \n",
    "        yield tuple(data_slice) + (session_duration, unquie_sites, session_start_hour, session_start_dow)\n",
    "        start += window_size \n",
    "        \n",
    "        \n",
    "def load_obj(path):\n",
    "    assert path[-3:] == \"pkl\", \"should be pickle\"\n",
    "    with open(path, \"rb\") as file:\n",
    "        object_ = pickle.load(file)\n",
    "    return object_\n",
    "\n",
    "def save_obj(obj, path):\n",
    "    assert path[-3:] == \"pkl\", \"should be pickle\"\n",
    "    with open(path, \"wb\") as file:\n",
    "        pickle.dump(obj, file)\n",
    "        print(\"Saved!\")\n",
    "\n",
    "def to_sparse(df, session_length):\n",
    "    sites_flatten = df.flatten()\n",
    "    values = [1] * sites_flatten.shape[0]\n",
    "\n",
    "    x_sparse = csr_matrix((values,\n",
    "                        sites_flatten,\n",
    "                        range(0, sites_flatten.shape[0]  + session_length, session_length)))[:, 1:]\n",
    "    return x_sparse"
   ]
  },
  {
   "cell_type": "code",
   "execution_count": 5,
   "metadata": {},
   "outputs": [],
   "source": [
    "def prepare_train_set_with_fe(path_to_csv_files, site_freq_path, feature_names,\n",
    "                                    session_length=10, window_size=10):\n",
    "    # all paths\n",
    "    site_freq = load_obj(site_freq_path)\n",
    "    file_names = sorted(glob(path_to_csv_files + \"/*.csv\"))\n",
    "    \n",
    "    y_user_ids = []\n",
    "    df_list = []\n",
    "    \n",
    "    for file_name in file_names:\n",
    "        df, user_id = prepare_file(file_name, site_freq, session_length, window_size)\n",
    "        \n",
    "        df_list.append(df)\n",
    "        y_user_ids.extend(user_id)\n",
    "        \n",
    "    full_df = pd.DataFrame(np.vstack(df_list), columns=feature_names)\n",
    "    full_df[\"target\"] = y_user_ids \n",
    "    return full_df \n",
    "\n",
    "    \n",
    "def prepare_file(file_path, site_freq, session_length, window_size):\n",
    "    user_df = pd.read_csv(file_path, sep=\",\", parse_dates=[\"timestamp\"]).values\n",
    "    # slow implementation for first attempt(?)\n",
    "    \n",
    "    num_windows = np.ceil(user_df.shape[0]/window_size).astype(int)\n",
    "    df = np.zeros((num_windows, session_length + 4))\n",
    "    \n",
    "    site_id_encoder = lambda site_name: site_freq[site_name][0] if site_name != 0 else 0\n",
    "    \n",
    "    for row, session in enumerate(window_with_times(user_df, session_length, window_size)):\n",
    "        site_ids = tuple(site_id_encoder(site) for site in session[:-4]) + session[-4:]\n",
    "        df[row, :] = site_ids\n",
    "    \n",
    "    user_ids = np.array([int(file_path[-8:-4])] * num_windows)\n",
    "    \n",
    "    return df, user_ids"
   ]
  },
  {
   "cell_type": "markdown",
   "metadata": {},
   "source": [
    "Let's test the function on a toy example."
   ]
  },
  {
   "cell_type": "code",
   "execution_count": 6,
   "metadata": {},
   "outputs": [],
   "source": [
    "feature_names = ['site' + str(i) for i in range(1,11)] + \\\n",
    "                ['session_timespan', '#unique_sites', 'start_hour', \n",
    "                                 'day_of_week']\n",
    "#                 ['time_diff' + str(j) for j in range(1,10)] + \\\n",
    "                \n",
    "train_data_toy  = prepare_train_set_with_fe(os.path.join(PATH_TO_DATA, \n",
    "                                                         '3users'), \n",
    "                  site_freq_path=os.path.join(PATH_TO_DATA, \n",
    "                                              'site_freq_3users.pkl'),\n",
    "                  feature_names=feature_names, session_length=10)"
   ]
  },
  {
   "cell_type": "code",
   "execution_count": 7,
   "metadata": {},
   "outputs": [
    {
     "data": {
      "text/html": [
       "<div>\n",
       "<style scoped>\n",
       "    .dataframe tbody tr th:only-of-type {\n",
       "        vertical-align: middle;\n",
       "    }\n",
       "\n",
       "    .dataframe tbody tr th {\n",
       "        vertical-align: top;\n",
       "    }\n",
       "\n",
       "    .dataframe thead th {\n",
       "        text-align: right;\n",
       "    }\n",
       "</style>\n",
       "<table border=\"1\" class=\"dataframe\">\n",
       "  <thead>\n",
       "    <tr style=\"text-align: right;\">\n",
       "      <th></th>\n",
       "      <th>site1</th>\n",
       "      <th>site2</th>\n",
       "      <th>site3</th>\n",
       "      <th>site4</th>\n",
       "      <th>site5</th>\n",
       "      <th>site6</th>\n",
       "      <th>site7</th>\n",
       "      <th>site8</th>\n",
       "      <th>site9</th>\n",
       "      <th>site10</th>\n",
       "      <th>session_timespan</th>\n",
       "      <th>#unique_sites</th>\n",
       "      <th>start_hour</th>\n",
       "      <th>day_of_week</th>\n",
       "      <th>target</th>\n",
       "    </tr>\n",
       "  </thead>\n",
       "  <tbody>\n",
       "    <tr>\n",
       "      <th>0</th>\n",
       "      <td>3.0</td>\n",
       "      <td>2.0</td>\n",
       "      <td>2.0</td>\n",
       "      <td>7.0</td>\n",
       "      <td>2.0</td>\n",
       "      <td>1.0</td>\n",
       "      <td>8.0</td>\n",
       "      <td>5.0</td>\n",
       "      <td>9.0</td>\n",
       "      <td>10.0</td>\n",
       "      <td>7998.0</td>\n",
       "      <td>8.0</td>\n",
       "      <td>9.0</td>\n",
       "      <td>4.0</td>\n",
       "      <td>1</td>\n",
       "    </tr>\n",
       "    <tr>\n",
       "      <th>1</th>\n",
       "      <td>3.0</td>\n",
       "      <td>1.0</td>\n",
       "      <td>1.0</td>\n",
       "      <td>1.0</td>\n",
       "      <td>0.0</td>\n",
       "      <td>0.0</td>\n",
       "      <td>0.0</td>\n",
       "      <td>0.0</td>\n",
       "      <td>0.0</td>\n",
       "      <td>0.0</td>\n",
       "      <td>60.0</td>\n",
       "      <td>2.0</td>\n",
       "      <td>12.0</td>\n",
       "      <td>4.0</td>\n",
       "      <td>1</td>\n",
       "    </tr>\n",
       "    <tr>\n",
       "      <th>2</th>\n",
       "      <td>3.0</td>\n",
       "      <td>2.0</td>\n",
       "      <td>6.0</td>\n",
       "      <td>6.0</td>\n",
       "      <td>2.0</td>\n",
       "      <td>0.0</td>\n",
       "      <td>0.0</td>\n",
       "      <td>0.0</td>\n",
       "      <td>0.0</td>\n",
       "      <td>0.0</td>\n",
       "      <td>7935.0</td>\n",
       "      <td>3.0</td>\n",
       "      <td>9.0</td>\n",
       "      <td>4.0</td>\n",
       "      <td>2</td>\n",
       "    </tr>\n",
       "    <tr>\n",
       "      <th>3</th>\n",
       "      <td>4.0</td>\n",
       "      <td>1.0</td>\n",
       "      <td>2.0</td>\n",
       "      <td>1.0</td>\n",
       "      <td>2.0</td>\n",
       "      <td>1.0</td>\n",
       "      <td>1.0</td>\n",
       "      <td>5.0</td>\n",
       "      <td>11.0</td>\n",
       "      <td>4.0</td>\n",
       "      <td>7998.0</td>\n",
       "      <td>5.0</td>\n",
       "      <td>9.0</td>\n",
       "      <td>4.0</td>\n",
       "      <td>3</td>\n",
       "    </tr>\n",
       "    <tr>\n",
       "      <th>4</th>\n",
       "      <td>4.0</td>\n",
       "      <td>1.0</td>\n",
       "      <td>2.0</td>\n",
       "      <td>0.0</td>\n",
       "      <td>0.0</td>\n",
       "      <td>0.0</td>\n",
       "      <td>0.0</td>\n",
       "      <td>0.0</td>\n",
       "      <td>0.0</td>\n",
       "      <td>0.0</td>\n",
       "      <td>1471.0</td>\n",
       "      <td>3.0</td>\n",
       "      <td>12.0</td>\n",
       "      <td>4.0</td>\n",
       "      <td>3</td>\n",
       "    </tr>\n",
       "  </tbody>\n",
       "</table>\n",
       "</div>"
      ],
      "text/plain": [
       "   site1  site2  site3  site4  site5  site6  site7  site8  site9  site10  \\\n",
       "0    3.0    2.0    2.0    7.0    2.0    1.0    8.0    5.0    9.0    10.0   \n",
       "1    3.0    1.0    1.0    1.0    0.0    0.0    0.0    0.0    0.0     0.0   \n",
       "2    3.0    2.0    6.0    6.0    2.0    0.0    0.0    0.0    0.0     0.0   \n",
       "3    4.0    1.0    2.0    1.0    2.0    1.0    1.0    5.0   11.0     4.0   \n",
       "4    4.0    1.0    2.0    0.0    0.0    0.0    0.0    0.0    0.0     0.0   \n",
       "\n",
       "   session_timespan  #unique_sites  start_hour  day_of_week  target  \n",
       "0            7998.0            8.0         9.0          4.0       1  \n",
       "1              60.0            2.0        12.0          4.0       1  \n",
       "2            7935.0            3.0         9.0          4.0       2  \n",
       "3            7998.0            5.0         9.0          4.0       3  \n",
       "4            1471.0            3.0        12.0          4.0       3  "
      ]
     },
     "execution_count": 7,
     "metadata": {},
     "output_type": "execute_result"
    }
   ],
   "source": [
    "train_data_toy"
   ]
  },
  {
   "cell_type": "markdown",
   "metadata": {},
   "source": [
    "Now apply function *prepare_train_set_with_fe* to 10 users and specify session_length=10"
   ]
  },
  {
   "cell_type": "code",
   "execution_count": 8,
   "metadata": {},
   "outputs": [
    {
     "name": "stdout",
     "output_type": "stream",
     "text": [
      "CPU times: user 1.76 s, sys: 41.4 ms, total: 1.8 s\n",
      "Wall time: 1.82 s\n"
     ]
    }
   ],
   "source": [
    "%%time\n",
    "# # you code here\n",
    "train_data_10users = prepare_train_set_with_fe(os.path.join(PATH_TO_DATA, \n",
    "                                                         '10users'), \n",
    "                  site_freq_path=os.path.join(PATH_TO_DATA, \n",
    "                                              'site_freq_10users.pkl'),\n",
    "                  feature_names=feature_names, session_length=10)"
   ]
  },
  {
   "cell_type": "code",
   "execution_count": 9,
   "metadata": {},
   "outputs": [
    {
     "data": {
      "text/html": [
       "<div>\n",
       "<style scoped>\n",
       "    .dataframe tbody tr th:only-of-type {\n",
       "        vertical-align: middle;\n",
       "    }\n",
       "\n",
       "    .dataframe tbody tr th {\n",
       "        vertical-align: top;\n",
       "    }\n",
       "\n",
       "    .dataframe thead th {\n",
       "        text-align: right;\n",
       "    }\n",
       "</style>\n",
       "<table border=\"1\" class=\"dataframe\">\n",
       "  <thead>\n",
       "    <tr style=\"text-align: right;\">\n",
       "      <th></th>\n",
       "      <th>site1</th>\n",
       "      <th>site2</th>\n",
       "      <th>site3</th>\n",
       "      <th>site4</th>\n",
       "      <th>site5</th>\n",
       "      <th>site6</th>\n",
       "      <th>site7</th>\n",
       "      <th>site8</th>\n",
       "      <th>site9</th>\n",
       "      <th>site10</th>\n",
       "      <th>session_timespan</th>\n",
       "      <th>#unique_sites</th>\n",
       "      <th>start_hour</th>\n",
       "      <th>day_of_week</th>\n",
       "      <th>target</th>\n",
       "    </tr>\n",
       "  </thead>\n",
       "  <tbody>\n",
       "    <tr>\n",
       "      <th>0</th>\n",
       "      <td>192.0</td>\n",
       "      <td>574.0</td>\n",
       "      <td>133.0</td>\n",
       "      <td>3.0</td>\n",
       "      <td>133.0</td>\n",
       "      <td>133.0</td>\n",
       "      <td>3.0</td>\n",
       "      <td>133.0</td>\n",
       "      <td>203.0</td>\n",
       "      <td>133.0</td>\n",
       "      <td>33.0</td>\n",
       "      <td>5.0</td>\n",
       "      <td>8.0</td>\n",
       "      <td>4.0</td>\n",
       "      <td>31</td>\n",
       "    </tr>\n",
       "    <tr>\n",
       "      <th>1</th>\n",
       "      <td>415.0</td>\n",
       "      <td>193.0</td>\n",
       "      <td>674.0</td>\n",
       "      <td>254.0</td>\n",
       "      <td>133.0</td>\n",
       "      <td>31.0</td>\n",
       "      <td>393.0</td>\n",
       "      <td>3305.0</td>\n",
       "      <td>217.0</td>\n",
       "      <td>55.0</td>\n",
       "      <td>284.0</td>\n",
       "      <td>10.0</td>\n",
       "      <td>8.0</td>\n",
       "      <td>4.0</td>\n",
       "      <td>31</td>\n",
       "    </tr>\n",
       "    <tr>\n",
       "      <th>2</th>\n",
       "      <td>55.0</td>\n",
       "      <td>3.0</td>\n",
       "      <td>55.0</td>\n",
       "      <td>55.0</td>\n",
       "      <td>5.0</td>\n",
       "      <td>293.0</td>\n",
       "      <td>415.0</td>\n",
       "      <td>333.0</td>\n",
       "      <td>897.0</td>\n",
       "      <td>55.0</td>\n",
       "      <td>258.0</td>\n",
       "      <td>7.0</td>\n",
       "      <td>8.0</td>\n",
       "      <td>4.0</td>\n",
       "      <td>31</td>\n",
       "    </tr>\n",
       "    <tr>\n",
       "      <th>3</th>\n",
       "      <td>473.0</td>\n",
       "      <td>3306.0</td>\n",
       "      <td>473.0</td>\n",
       "      <td>55.0</td>\n",
       "      <td>55.0</td>\n",
       "      <td>55.0</td>\n",
       "      <td>55.0</td>\n",
       "      <td>937.0</td>\n",
       "      <td>199.0</td>\n",
       "      <td>123.0</td>\n",
       "      <td>30.0</td>\n",
       "      <td>6.0</td>\n",
       "      <td>8.0</td>\n",
       "      <td>4.0</td>\n",
       "      <td>31</td>\n",
       "    </tr>\n",
       "    <tr>\n",
       "      <th>4</th>\n",
       "      <td>342.0</td>\n",
       "      <td>55.0</td>\n",
       "      <td>5.0</td>\n",
       "      <td>3307.0</td>\n",
       "      <td>258.0</td>\n",
       "      <td>211.0</td>\n",
       "      <td>3308.0</td>\n",
       "      <td>2086.0</td>\n",
       "      <td>675.0</td>\n",
       "      <td>2086.0</td>\n",
       "      <td>6.0</td>\n",
       "      <td>9.0</td>\n",
       "      <td>8.0</td>\n",
       "      <td>4.0</td>\n",
       "      <td>31</td>\n",
       "    </tr>\n",
       "  </tbody>\n",
       "</table>\n",
       "</div>"
      ],
      "text/plain": [
       "   site1   site2  site3   site4  site5  site6   site7   site8  site9  site10  \\\n",
       "0  192.0   574.0  133.0     3.0  133.0  133.0     3.0   133.0  203.0   133.0   \n",
       "1  415.0   193.0  674.0   254.0  133.0   31.0   393.0  3305.0  217.0    55.0   \n",
       "2   55.0     3.0   55.0    55.0    5.0  293.0   415.0   333.0  897.0    55.0   \n",
       "3  473.0  3306.0  473.0    55.0   55.0   55.0    55.0   937.0  199.0   123.0   \n",
       "4  342.0    55.0    5.0  3307.0  258.0  211.0  3308.0  2086.0  675.0  2086.0   \n",
       "\n",
       "   session_timespan  #unique_sites  start_hour  day_of_week  target  \n",
       "0              33.0            5.0         8.0          4.0      31  \n",
       "1             284.0           10.0         8.0          4.0      31  \n",
       "2             258.0            7.0         8.0          4.0      31  \n",
       "3              30.0            6.0         8.0          4.0      31  \n",
       "4               6.0            9.0         8.0          4.0      31  "
      ]
     },
     "execution_count": 9,
     "metadata": {},
     "output_type": "execute_result"
    }
   ],
   "source": [
    "train_data_10users.head()"
   ]
  },
  {
   "cell_type": "markdown",
   "metadata": {},
   "source": [
    "Apply function *prepare_train_set_with_fe* to 150 users and specify session_length=10"
   ]
  },
  {
   "cell_type": "code",
   "execution_count": 10,
   "metadata": {},
   "outputs": [
    {
     "name": "stdout",
     "output_type": "stream",
     "text": [
      "CPU times: user 16.5 s, sys: 340 ms, total: 16.8 s\n",
      "Wall time: 17.1 s\n"
     ]
    }
   ],
   "source": [
    "%%time\n",
    "# # you code here\n",
    "train_data_150users = prepare_train_set_with_fe(os.path.join(PATH_TO_DATA, \n",
    "                                                         '150users'), \n",
    "                  site_freq_path=os.path.join(PATH_TO_DATA, \n",
    "                                              'site_freq_150users.pkl'),\n",
    "                  feature_names=feature_names, session_length=10)"
   ]
  },
  {
   "cell_type": "code",
   "execution_count": 11,
   "metadata": {},
   "outputs": [
    {
     "data": {
      "text/html": [
       "<div>\n",
       "<style scoped>\n",
       "    .dataframe tbody tr th:only-of-type {\n",
       "        vertical-align: middle;\n",
       "    }\n",
       "\n",
       "    .dataframe tbody tr th {\n",
       "        vertical-align: top;\n",
       "    }\n",
       "\n",
       "    .dataframe thead th {\n",
       "        text-align: right;\n",
       "    }\n",
       "</style>\n",
       "<table border=\"1\" class=\"dataframe\">\n",
       "  <thead>\n",
       "    <tr style=\"text-align: right;\">\n",
       "      <th></th>\n",
       "      <th>site1</th>\n",
       "      <th>site2</th>\n",
       "      <th>site3</th>\n",
       "      <th>site4</th>\n",
       "      <th>site5</th>\n",
       "      <th>site6</th>\n",
       "      <th>site7</th>\n",
       "      <th>site8</th>\n",
       "      <th>site9</th>\n",
       "      <th>site10</th>\n",
       "      <th>session_timespan</th>\n",
       "      <th>#unique_sites</th>\n",
       "      <th>start_hour</th>\n",
       "      <th>day_of_week</th>\n",
       "      <th>target</th>\n",
       "    </tr>\n",
       "  </thead>\n",
       "  <tbody>\n",
       "    <tr>\n",
       "      <th>0</th>\n",
       "      <td>1.0</td>\n",
       "      <td>1.0</td>\n",
       "      <td>4.0</td>\n",
       "      <td>2.0</td>\n",
       "      <td>1.0</td>\n",
       "      <td>4.0</td>\n",
       "      <td>1.0</td>\n",
       "      <td>2.0</td>\n",
       "      <td>1290.0</td>\n",
       "      <td>321.0</td>\n",
       "      <td>57.0</td>\n",
       "      <td>5.0</td>\n",
       "      <td>8.0</td>\n",
       "      <td>4.0</td>\n",
       "      <td>6</td>\n",
       "    </tr>\n",
       "    <tr>\n",
       "      <th>1</th>\n",
       "      <td>2.0</td>\n",
       "      <td>23.0</td>\n",
       "      <td>1505.0</td>\n",
       "      <td>1290.0</td>\n",
       "      <td>321.0</td>\n",
       "      <td>321.0</td>\n",
       "      <td>113.0</td>\n",
       "      <td>73.0</td>\n",
       "      <td>49.0</td>\n",
       "      <td>49.0</td>\n",
       "      <td>1618.0</td>\n",
       "      <td>8.0</td>\n",
       "      <td>8.0</td>\n",
       "      <td>4.0</td>\n",
       "      <td>6</td>\n",
       "    </tr>\n",
       "    <tr>\n",
       "      <th>2</th>\n",
       "      <td>321.0</td>\n",
       "      <td>205.0</td>\n",
       "      <td>1.0</td>\n",
       "      <td>1.0</td>\n",
       "      <td>1.0</td>\n",
       "      <td>1.0</td>\n",
       "      <td>73.0</td>\n",
       "      <td>321.0</td>\n",
       "      <td>2.0</td>\n",
       "      <td>1.0</td>\n",
       "      <td>2010.0</td>\n",
       "      <td>5.0</td>\n",
       "      <td>8.0</td>\n",
       "      <td>4.0</td>\n",
       "      <td>6</td>\n",
       "    </tr>\n",
       "    <tr>\n",
       "      <th>3</th>\n",
       "      <td>1.0</td>\n",
       "      <td>1.0</td>\n",
       "      <td>6998.0</td>\n",
       "      <td>6998.0</td>\n",
       "      <td>5491.0</td>\n",
       "      <td>6998.0</td>\n",
       "      <td>6998.0</td>\n",
       "      <td>1.0</td>\n",
       "      <td>35.0</td>\n",
       "      <td>1.0</td>\n",
       "      <td>2006.0</td>\n",
       "      <td>4.0</td>\n",
       "      <td>9.0</td>\n",
       "      <td>4.0</td>\n",
       "      <td>6</td>\n",
       "    </tr>\n",
       "    <tr>\n",
       "      <th>4</th>\n",
       "      <td>1.0</td>\n",
       "      <td>1.0</td>\n",
       "      <td>76.0</td>\n",
       "      <td>1.0</td>\n",
       "      <td>58.0</td>\n",
       "      <td>50.0</td>\n",
       "      <td>58.0</td>\n",
       "      <td>50.0</td>\n",
       "      <td>83.0</td>\n",
       "      <td>76.0</td>\n",
       "      <td>10.0</td>\n",
       "      <td>5.0</td>\n",
       "      <td>9.0</td>\n",
       "      <td>4.0</td>\n",
       "      <td>6</td>\n",
       "    </tr>\n",
       "  </tbody>\n",
       "</table>\n",
       "</div>"
      ],
      "text/plain": [
       "   site1  site2   site3   site4   site5   site6   site7  site8   site9  \\\n",
       "0    1.0    1.0     4.0     2.0     1.0     4.0     1.0    2.0  1290.0   \n",
       "1    2.0   23.0  1505.0  1290.0   321.0   321.0   113.0   73.0    49.0   \n",
       "2  321.0  205.0     1.0     1.0     1.0     1.0    73.0  321.0     2.0   \n",
       "3    1.0    1.0  6998.0  6998.0  5491.0  6998.0  6998.0    1.0    35.0   \n",
       "4    1.0    1.0    76.0     1.0    58.0    50.0    58.0   50.0    83.0   \n",
       "\n",
       "   site10  session_timespan  #unique_sites  start_hour  day_of_week  target  \n",
       "0   321.0              57.0            5.0         8.0          4.0       6  \n",
       "1    49.0            1618.0            8.0         8.0          4.0       6  \n",
       "2     1.0            2010.0            5.0         8.0          4.0       6  \n",
       "3     1.0            2006.0            4.0         9.0          4.0       6  \n",
       "4    76.0              10.0            5.0         9.0          4.0       6  "
      ]
     },
     "execution_count": 11,
     "metadata": {},
     "output_type": "execute_result"
    }
   ],
   "source": [
    "train_data_150users.head()"
   ]
  },
  {
   "cell_type": "markdown",
   "metadata": {},
   "source": [
    "Save features **session_timespan, #unique_sites, start_hour and day_of_week for 10 and 150 users to pickle files.**"
   ]
  },
  {
   "cell_type": "code",
   "execution_count": 12,
   "metadata": {},
   "outputs": [],
   "source": [
    "# # you code here\n",
    "new_features_10users = train_data_10users.loc[:, [\"session_timespan\", \"#unique_sites\", \"start_hour\", \"day_of_week\"]]\n",
    "new_features_150users = train_data_150users.loc[:, [\"session_timespan\", \"#unique_sites\", \"start_hour\", \"day_of_week\"]]"
   ]
  },
  {
   "cell_type": "code",
   "execution_count": 13,
   "metadata": {},
   "outputs": [
    {
     "name": "stdout",
     "output_type": "stream",
     "text": [
      "Saved!\n",
      "Saved!\n"
     ]
    }
   ],
   "source": [
    "save_obj(new_features_10users, PATH_TO_DATA + \"/new_features_10users.pkl\")\n",
    "save_obj(new_features_150users, PATH_TO_DATA + \"/new_features_150users.pkl\")"
   ]
  },
  {
   "cell_type": "code",
   "execution_count": null,
   "metadata": {},
   "outputs": [],
   "source": [
    "# with open(os.path.join(PATH_TO_DATA, \n",
    "#                        'new_features_10users.pkl'), 'wb') as new_features_10users_pkl:\n",
    "#     pickle.dump(new_features_10users, new_features_10users_pkl)\n",
    "# with open(os.path.join(PATH_TO_DATA, \n",
    "#                        'new_features_150users.pkl'), 'wb') as new_features_150users_pkl:\n",
    "#     pickle.dump(new_features_150users, new_features_150users_pkl)"
   ]
  },
  {
   "cell_type": "markdown",
   "metadata": {},
   "source": [
    "**<font color='red'> Question 1. </font> What's the median session timespan for 10 users data?**"
   ]
  },
  {
   "cell_type": "code",
   "execution_count": 20,
   "metadata": {},
   "outputs": [
    {
     "data": {
      "text/plain": [
       "37.0"
      ]
     },
     "execution_count": 20,
     "metadata": {},
     "output_type": "execute_result"
    }
   ],
   "source": [
    "# you code here\n",
    "new_features_10users.session_timespan.median()"
   ]
  },
  {
   "cell_type": "markdown",
   "metadata": {},
   "source": [
    "**<font color='red'> Question 2. </font> What's the median day of week for 10 users data?**"
   ]
  },
  {
   "cell_type": "code",
   "execution_count": 21,
   "metadata": {},
   "outputs": [
    {
     "data": {
      "text/plain": [
       "2.0"
      ]
     },
     "execution_count": 21,
     "metadata": {},
     "output_type": "execute_result"
    }
   ],
   "source": [
    "# you code here\n",
    "new_features_10users.day_of_week.median()"
   ]
  },
  {
   "cell_type": "markdown",
   "metadata": {},
   "source": [
    "**<font color='red'> Question 3. </font> What's the median session start hour for 150 users data?**"
   ]
  },
  {
   "cell_type": "code",
   "execution_count": 22,
   "metadata": {},
   "outputs": [
    {
     "data": {
      "text/plain": [
       "13.0"
      ]
     },
     "execution_count": 22,
     "metadata": {},
     "output_type": "execute_result"
    }
   ],
   "source": [
    "# you code here\n",
    "new_features_150users.start_hour.median()"
   ]
  },
  {
   "cell_type": "markdown",
   "metadata": {},
   "source": [
    "**<font color='red'> Question 4. </font> What's the median number of unique sites for 150 users data?**"
   ]
  },
  {
   "cell_type": "code",
   "execution_count": 23,
   "metadata": {},
   "outputs": [
    {
     "data": {
      "text/plain": [
       "7.0"
      ]
     },
     "execution_count": 23,
     "metadata": {},
     "output_type": "execute_result"
    }
   ],
   "source": [
    "# you code here\n",
    "new_features_150users['#unique_sites'].median()"
   ]
  },
  {
   "cell_type": "markdown",
   "metadata": {},
   "source": [
    "## Part 2. Visual data exploration"
   ]
  },
  {
   "cell_type": "markdown",
   "metadata": {},
   "source": [
    "Let's assign a name and a color to each user."
   ]
  },
  {
   "cell_type": "code",
   "execution_count": 14,
   "metadata": {},
   "outputs": [],
   "source": [
    "id_name_dict = {128: 'Mary-Kate', 39: 'Ashley', 207: 'Lindsey', 127: 'Naomi', 237: 'Avril',\n",
    "               33: 'Bob', 50: 'Bill', 31: 'John', 100: 'Dick', 241: 'Ed'}\n",
    "train_data_10users['target'] = train_data_10users['target'].map(id_name_dict)"
   ]
  },
  {
   "cell_type": "code",
   "execution_count": 15,
   "metadata": {},
   "outputs": [],
   "source": [
    "color_dic = {'Mary-Kate': 'pink', 'Ashley': 'darkviolet', 'Lindsey':'blueviolet', \n",
    "             'Naomi': 'hotpink', 'Avril': 'orchid', \n",
    "             'Bob': 'firebrick', 'Bill': 'gold', 'John': 'forestgreen', \n",
    "             'Dick': 'slategrey', 'Ed':'brown'}"
   ]
  },
  {
   "cell_type": "markdown",
   "metadata": {},
   "source": [
    "- Plot a histogram of session length (measured in seconds). Limit x axis to 200 (the right tail is very heavy). Make the histogram of color darkviolet and name the axes."
   ]
  },
  {
   "cell_type": "code",
   "execution_count": 42,
   "metadata": {},
   "outputs": [
    {
     "data": {
      "text/plain": [
       "Text(0.5,0,'session timespan')"
      ]
     },
     "execution_count": 42,
     "metadata": {},
     "output_type": "execute_result"
    },
    {
     "data": {
      "image/png": "[encoded data removed]",
      "text/plain": [
       "<Figure size 432x288 with 1 Axes>"
      ]
     },
     "metadata": {
      "needs_background": "light"
     },
     "output_type": "display_data"
    }
   ],
   "source": [
    "# you code here\n",
    "plt.hist(train_data_10users['session_timespan'].value_counts(), color=\"darkviolet\");\n",
    "# plt.ylabel(\"count\")\n",
    "# plt.xlabel(\"session timespan\")\n",
    "# plt.xlim(0, 200)"
   ]
  },
  {
   "cell_type": "code",
   "execution_count": 43,
   "metadata": {},
   "outputs": [
    {
     "data": {
      "text/plain": [
       "2.0         729\n",
       "3.0         577\n",
       "1.0         511\n",
       "4.0         429\n",
       "5.0         356\n",
       "6.0         274\n",
       "9.0         262\n",
       "8.0         237\n",
       "7.0         237\n",
       "10.0        235\n",
       "11.0        220\n",
       "14.0        198\n",
       "12.0        190\n",
       "13.0        171\n",
       "45.0        153\n",
       "16.0        150\n",
       "15.0        147\n",
       "19.0        140\n",
       "60.0        138\n",
       "23.0        126\n",
       "18.0        124\n",
       "17.0        123\n",
       "30.0        117\n",
       "21.0        115\n",
       "20.0        115\n",
       "22.0        111\n",
       "61.0        104\n",
       "28.0        102\n",
       "26.0        100\n",
       "32.0         99\n",
       "           ... \n",
       "1603.0        1\n",
       "174513.0      1\n",
       "20280.0       1\n",
       "1782.0        1\n",
       "774.0         1\n",
       "737.0         1\n",
       "2035.0        1\n",
       "2743.0        1\n",
       "1683.0        1\n",
       "6524.0        1\n",
       "9779.0        1\n",
       "27427.0       1\n",
       "83086.0       1\n",
       "6601.0        1\n",
       "769.0         1\n",
       "571.0         1\n",
       "621.0         1\n",
       "99473.0       1\n",
       "1403.0        1\n",
       "4938.0        1\n",
       "929.0         1\n",
       "505.0         1\n",
       "938.0         1\n",
       "1389.0        1\n",
       "2131.0        1\n",
       "72880.0       1\n",
       "1103.0        1\n",
       "1015.0        1\n",
       "13463.0       1\n",
       "1525.0        1\n",
       "Name: session_timespan, Length: 1861, dtype: int64"
      ]
     },
     "execution_count": 43,
     "metadata": {},
     "output_type": "execute_result"
    }
   ],
   "source": [
    "train_data_10users['session_timespan'].value_counts()"
   ]
  },
  {
   "cell_type": "markdown",
   "metadata": {},
   "source": [
    "- Plot a histogram of number of unique sites in session. Make it of color aqua, name the axes."
   ]
  },
  {
   "cell_type": "code",
   "execution_count": 38,
   "metadata": {
    "scrolled": false
   },
   "outputs": [
    {
     "data": {
      "text/plain": [
       "2.0         729\n",
       "3.0         577\n",
       "1.0         511\n",
       "4.0         429\n",
       "5.0         356\n",
       "6.0         274\n",
       "9.0         262\n",
       "8.0         237\n",
       "7.0         237\n",
       "10.0        235\n",
       "11.0        220\n",
       "14.0        198\n",
       "12.0        190\n",
       "13.0        171\n",
       "45.0        153\n",
       "16.0        150\n",
       "15.0        147\n",
       "19.0        140\n",
       "60.0        138\n",
       "23.0        126\n",
       "18.0        124\n",
       "17.0        123\n",
       "30.0        117\n",
       "21.0        115\n",
       "20.0        115\n",
       "22.0        111\n",
       "61.0        104\n",
       "28.0        102\n",
       "26.0        100\n",
       "32.0         99\n",
       "           ... \n",
       "1603.0        1\n",
       "174513.0      1\n",
       "20280.0       1\n",
       "1782.0        1\n",
       "774.0         1\n",
       "737.0         1\n",
       "2035.0        1\n",
       "2743.0        1\n",
       "1683.0        1\n",
       "6524.0        1\n",
       "9779.0        1\n",
       "27427.0       1\n",
       "83086.0       1\n",
       "6601.0        1\n",
       "769.0         1\n",
       "571.0         1\n",
       "621.0         1\n",
       "99473.0       1\n",
       "1403.0        1\n",
       "4938.0        1\n",
       "929.0         1\n",
       "505.0         1\n",
       "938.0         1\n",
       "1389.0        1\n",
       "2131.0        1\n",
       "72880.0       1\n",
       "1103.0        1\n",
       "1015.0        1\n",
       "13463.0       1\n",
       "1525.0        1\n",
       "Name: session_timespan, Length: 1861, dtype: int64"
      ]
     },
     "execution_count": 38,
     "metadata": {},
     "output_type": "execute_result"
    }
   ],
   "source": [
    "train_data_10users['session_timespan'].value_counts()"
   ]
  },
  {
   "cell_type": "code",
   "execution_count": 32,
   "metadata": {},
   "outputs": [
    {
     "data": {
      "text/plain": [
       "7.0     2307\n",
       "6.0     2199\n",
       "8.0     2045\n",
       "5.0     1735\n",
       "9.0     1394\n",
       "2.0     1249\n",
       "4.0     1163\n",
       "3.0      890\n",
       "10.0     651\n",
       "1.0      428\n",
       "Name: #unique_sites, dtype: int64"
      ]
     },
     "execution_count": 32,
     "metadata": {},
     "output_type": "execute_result"
    }
   ],
   "source": [
    "# you code here\n",
    "train_data_10users['#unique_sites'].value_counts()"
   ]
  },
  {
   "cell_type": "markdown",
   "metadata": {},
   "source": [
    "- Plot a histogram of number of unique sites for **each user separately**. Use *subplots* to fit all the 10 little pictures on a big one. Assign legend to each plot, it should have user's name on it. For each user color the corresponding histogram with a color from *color_dic*. Sign the axes in each of the histograms."
   ]
  },
  {
   "cell_type": "code",
   "execution_count": null,
   "metadata": {},
   "outputs": [],
   "source": [
    "fig, axes = plt.subplots(nrows=3, ncols=4, figsize=(16, 10))\n",
    "\n",
    "#just a suggestion\n",
    "for idx, (user, sub_df) in  enumerate(pd.groupby(train_data_10users, 'user_id')): \n",
    "    pass\n",
    "    # you code here"
   ]
  },
  {
   "cell_type": "markdown",
   "metadata": {},
   "source": [
    "- Plot a histogram of session start hour. Make histogram of color darkgreen, sign the axes."
   ]
  },
  {
   "cell_type": "code",
   "execution_count": null,
   "metadata": {},
   "outputs": [],
   "source": [
    "# you code here\n",
    "train_data_10users['start_hour'] "
   ]
  },
  {
   "cell_type": "markdown",
   "metadata": {},
   "source": [
    "- Plot histograms of start hour distribution for each of 10 users separately. Use *subplots* to fit all the 10 little pictures on a big one. Assign legend to each plot, it should have user's name on it. For each user color the corresponding histogram with a color from color_dic. Sign the axes in each of the histograms."
   ]
  },
  {
   "cell_type": "code",
   "execution_count": null,
   "metadata": {},
   "outputs": [],
   "source": [
    "fig, axes = plt.subplots(nrows=3, ncols=4, figsize=(16, 10))\n",
    "\n",
    "#just a suggestion\n",
    "for idx, (user, sub_df) in  enumerate(pd.groupby(train_data_10users, 'user_id')):\n",
    "    pass\n",
    "    # you code here"
   ]
  },
  {
   "cell_type": "markdown",
   "metadata": {},
   "source": [
    "- Plot histogram of day of week distribution. Make it of color sienna, sign the axes. "
   ]
  },
  {
   "cell_type": "code",
   "execution_count": null,
   "metadata": {},
   "outputs": [],
   "source": [
    "# you code here\n",
    "train_data_10users['day_of_week']"
   ]
  },
  {
   "cell_type": "markdown",
   "metadata": {},
   "source": [
    "- Plot histograms of day of week distribution for each of 10 users separately. Use *subplots* to fit all the 10 little pictures on a big one. Change x axis labels to `['Mon','Tue','Wed','Thu','Fri','Sat','Sun']` using **set_xticklabels** method. Assign legend to each plot, it should have user's name on it. For each user color the corresponding histogram with a **color** from **color_dic**. Sign the axes in each of the histograms."
   ]
  },
  {
   "cell_type": "code",
   "execution_count": null,
   "metadata": {},
   "outputs": [],
   "source": [
    "fig, axes = plt.subplots(nrows=3, ncols=4, figsize=(16, 10))\n",
    "\n",
    "#just a suggestion\n",
    "for idx, (user, sub_df) in  enumerate(pd.groupby(train_data_10users, 'user_id')):\n",
    "    pass\n",
    "    # you code here"
   ]
  },
  {
   "cell_type": "markdown",
   "metadata": {},
   "source": [
    "- Make conclusions about each user using the plots you just plotted. "
   ]
  },
  {
   "cell_type": "markdown",
   "metadata": {},
   "source": [
    "Load the pickle file frequency dict for 10 users you saved earlier."
   ]
  },
  {
   "cell_type": "code",
   "execution_count": null,
   "metadata": {},
   "outputs": [],
   "source": [
    "# # you code here\n",
    "# with open "
   ]
  },
  {
   "cell_type": "markdown",
   "metadata": {},
   "source": [
    "- Find top-10 most visited sites (top10_sites) and corresponding number of visits (top10_freqs)."
   ]
  },
  {
   "cell_type": "code",
   "execution_count": null,
   "metadata": {},
   "outputs": [],
   "source": [
    "# # you code here\n",
    "# top10_freqs = \n",
    "# top10_sites = "
   ]
  },
  {
   "cell_type": "markdown",
   "metadata": {},
   "source": [
    "- Plot seaborn barplot that shows frequencies of top-10 sites visits. Make x-axis names (xticks) vertically oriented, otherwise they do not look good. "
   ]
  },
  {
   "cell_type": "code",
   "execution_count": null,
   "metadata": {},
   "outputs": [],
   "source": [
    "# # you code here\n",
    "# sns.barplot "
   ]
  },
  {
   "cell_type": "markdown",
   "metadata": {},
   "source": [
    "## Part 3. Further feature engineering"
   ]
  },
  {
   "cell_type": "markdown",
   "metadata": {},
   "source": [
    "This task will test your creativity. You have to come up with ideas, how else you can use website visit time and other features.\n",
    "\n",
    "On the next week we will use a \"bag of sites\" to classify sessions based on which user they belong to. Additionaly, you will use features you create here and we'll see, whether model improves. It is wise to calculate them now and save, like we did in this assignment. \n",
    "\n",
    "You may go wild here and explore any feature you want - you have no constraints. \n",
    "\n",
    "- year, month and day of session start\n",
    "- hour of sessions start (with respect to year, month and day)\n",
    "- time of day\n",
    "- average time spent on website (for top-30, for example)\n",
    "- indicator function for popular site visit (again, top-30)\n",
    "- facebook visit frequency\n",
    "- ......."
   ]
  },
  {
   "cell_type": "markdown",
   "metadata": {},
   "source": [
    "Implement the function to create new features and apply to initial data - catalogues with 10 and 150 users. Do it only for dataset, which was created with paramaters session_length=10 and window_size=10. Serialize resulting matrices via pickle. Function may return both only new features and old ones concatenated with new. You are free to choose function signature - no constraints here."
   ]
  },
  {
   "cell_type": "code",
   "execution_count": null,
   "metadata": {},
   "outputs": [],
   "source": [
    "def feature_engineering(path_to_csv_files, features, session_length=10):\n",
    "    pass\n",
    "    # you code here"
   ]
  },
  {
   "cell_type": "code",
   "execution_count": null,
   "metadata": {},
   "outputs": [],
   "source": [
    "# # you code here\n",
    "# new_features_10users = feature_engineering"
   ]
  },
  {
   "cell_type": "code",
   "execution_count": null,
   "metadata": {},
   "outputs": [],
   "source": [
    "# # you code here\n",
    "# new_features_150users = feature_engineering"
   ]
  },
  {
   "cell_type": "markdown",
   "metadata": {},
   "source": [
    "10. Plot pictures for new features, explore them and comment on the results."
   ]
  },
  {
   "cell_type": "code",
   "execution_count": 7,
   "metadata": {},
   "outputs": [],
   "source": [
    "# you code here"
   ]
  },
  {
   "cell_type": "markdown",
   "metadata": {},
   "source": [
    "Finally, save only those features to pickle files which, on your opinion, would help to identify user more precisely. This applies both to features, that we created in the beginning (session_timespan, #unique_sites, start_hour, day_of_week) and your own. You are free to create all these features not only for sessions of length 10, but for any other combination of *session_length* and *window_size*"
   ]
  },
  {
   "cell_type": "code",
   "execution_count": null,
   "metadata": {},
   "outputs": [],
   "source": [
    "# # you code here\n",
    "# selected_features_10users = \n",
    "# selected_features_150users = "
   ]
  },
  {
   "cell_type": "code",
   "execution_count": null,
   "metadata": {},
   "outputs": [],
   "source": [
    "with open(os.path.join(PATH_TO_DATA, \n",
    "                       'selected_features_10users.pkl'), 'wb') as selected_features_10users_pkl:\n",
    "    pickle.dump(selected_features_10users, selected_features_10users_pkl, \n",
    "                protocol=2)\n",
    "with open(os.path.join(PATH_TO_DATA, \n",
    "                       'selected_features_150users.pkl'), 'wb') as selected_features_150users_pkl:\n",
    "    pickle.dump(selected_features_150users, selected_features_150users_pkl, \n",
    "                protocol=2)"
   ]
  },
  {
   "cell_type": "markdown",
   "metadata": {},
   "source": [
    "Next week, we'll finally start training classification models."
   ]
  }
 ],
 "metadata": {
  "anaconda-cloud": {},
  "kernelspec": {
   "display_name": "Python 3",
   "language": "python",
   "name": "python3"
  },
  "language_info": {
   "codemirror_mode": {
    "name": "ipython",
    "version": 3
   },
   "file_extension": ".py",
   "mimetype": "text/x-python",
   "name": "python",
   "nbconvert_exporter": "python",
   "pygments_lexer": "ipython3",
   "version": "3.7.0"
  },
  "nbTranslate": {
   "displayLangs": [
    "*"
   ],
   "hotkey": "alt-t",
   "langInMainMenu": true,
   "sourceLang": "en",
   "targetLang": "fr",
   "useGoogleTranslate": true
  },
  "toc": {
   "base_numbering": 1,
   "nav_menu": {},
   "number_sections": true,
   "sideBar": true,
   "skip_h1_title": false,
   "title_cell": "Table of Contents",
   "title_sidebar": "Contents",
   "toc_cell": false,
   "toc_position": {},
   "toc_section_display": true,
   "toc_window_display": false
  }
 },
 "nbformat": 4,
 "nbformat_minor": 2
}
