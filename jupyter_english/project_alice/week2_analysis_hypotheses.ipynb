{
 "cells": [
  {
   "cell_type": "markdown",
   "metadata": {},
   "source": [
    "<center>\n",
    "<img src=\"../../img/ods_stickers.jpg\" />\n",
    "    \n",
    "## [mlcourse.ai](mlcourse.ai) – Open Machine Learning Course \n",
    "Author: [Yury Kashnitskiy](https://yorko.github.io) (@yorko). Translated by Gleb Filatov (@gleb_filatov). This material is subject to the terms and conditions of the [Creative Commons CC BY-NC-SA 4.0](https://creativecommons.org/licenses/by-nc-sa/4.0/) license. Free use is permitted for any non-commercial purpose. This material is a translated version of the Capstone project (by the same author) from specialization \"Machine learning and data analysis\" by Yandex and MIPT. No solutions shared."
   ]
  },
  {
   "cell_type": "markdown",
   "metadata": {},
   "source": [
    "# <center> Project \"Alice\". User Identification Based on Visited Websites. Week 2.\n",
    "## <center> Week 2. Data preparation, analysis, and hypothesis testing \n",
    "    \n",
    "In the second week, we will continue to preprocess data both for further analysis and to train first machine learning models. Earlier we defined a session as a sequence of 10 websites visited by user. Now we will turn session length into a parameter and will choose best one with respect to fitted models. Also we will look at processed data, make some assumptions about data and test those assumtions via statistical hypothesis testing."
   ]
  },
  {
   "cell_type": "markdown",
   "metadata": {},
   "source": [
    "**Week 2 roadmap**\n",
    "- Part 1. Preparing multiple training subsets\n",
    "- Part 2. Basic data analysis, hypothesis testing"
   ]
  },
  {
   "cell_type": "markdown",
   "metadata": {},
   "source": [
    "**You might find the following materials useful:**\n",
    "- [Mathematical Biostatistics Boot Camp 1](https://www.coursera.org/learn/biostatistics) Coursera course\n",
    "- Wikipedia pages on QQ-plots, Shapiro-Wilk criterion, Wilson confidence intervals, and bootstrap\n",
    "   \n",
    "**Besides, we are going to use [`pickle`](https://docs.python.org/3/library/pickle.html), [`glob`](https://docs.python.org/3/library/glob.html) and `Scipy.sparse` ([`csr_matrix`](https://docs.scipy.org/doc/scipy-0.18.1/reference/generated/scipy.sparse.csr_matrix.html) class) python libraries.**"
   ]
  },
  {
   "cell_type": "markdown",
   "metadata": {},
   "source": [
    "**Your task**\n",
    "1. Fill in the missing code in the provided notebook\n",
    "2. Choose the answers in the [form](https://docs.google.com/forms/d/1a9GdBog7edZOQZEJKhoGL7tyXIZ0dAc8d-fiKMn7VfY)"
   ]
  },
  {
   "cell_type": "markdown",
   "metadata": {},
   "source": [
    "## Part 1. Preparing multiple training subsets."
   ]
  },
  {
   "cell_type": "markdown",
   "metadata": {},
   "source": [
    "Earlier we assumed session length to be 10, and that was just a guess. Now let's make session length a parameter to be able to compare different classification models, trained on varying subsets - with 5, 7, 10 and 15 site visits in a sequence. Furthermore, we were taking 10 sites in succession, without any intersection. Now we will adopt sliding window idea, i.e. sessions will intersect."
   ]
  },
  {
   "cell_type": "markdown",
   "metadata": {},
   "source": [
    "**Example:** For session length of 10 and window width of 7, a file containing 30 entries will result not in 3 sessions, as before `(1-10, 11-20, 21-30)`, but in 5 sessions `(1-10, 8-17, 15-24, 22-30, 29-30)`. Also notice, that second-to-last session will have one zero and last session will have 8 zeroes. "
   ]
  },
  {
   "cell_type": "markdown",
   "metadata": {},
   "source": [
    "Let's create multiple subsets for different combinations of session length and window width parameters. All of them are presented in the table below. "
   ]
  },
  {
   "cell_type": "markdown",
   "metadata": {},
   "source": [
    "<style type=\"text/css\">\n",
    ".tg  {border-collapse:collapse;border-spacing:0;}\n",
    ".tg td{font-family:Arial, sans-serif;font-size:14px;padding:10px 5px;border-style:solid;border-width:1px;overflow:hidden;word-break:normal;}\n",
    ".tg th{font-family:Arial, sans-serif;font-size:14px;font-weight:normal;padding:10px 5px;border-style:solid;border-width:1px;overflow:hidden;word-break:normal;}\n",
    "</style>\n",
    "<table class=\"tg\">\n",
    "  <tr>\n",
    "    <th class=\"tg-031e\">session_length <span>&#8594;</span> <br>window_size <span>&#8595;</span> <br></th>\n",
    "    <th class=\"tg-031e\">5</th>\n",
    "    <th class=\"tg-031e\">7</th>\n",
    "    <th class=\"tg-031e\">10</th>\n",
    "    <th class=\"tg-031e\">15</th>\n",
    "  </tr>\n",
    "  <tr>\n",
    "    <td class=\"tg-031e\">5</td>\n",
    "    <td class=\"tg-031e\">v</td>\n",
    "    <td class=\"tg-031e\">v</td>\n",
    "    <td class=\"tg-031e\">v</td>\n",
    "    <td class=\"tg-031e\">v</td>\n",
    "  </tr>\n",
    "  <tr>\n",
    "    <td class=\"tg-031e\">7</td>\n",
    "    <td class=\"tg-031e\"></td>\n",
    "    <td class=\"tg-031e\">v</td>\n",
    "    <td class=\"tg-031e\">v</td>\n",
    "    <td class=\"tg-031e\">v</td>\n",
    "  </tr>\n",
    "  <tr>\n",
    "    <td class=\"tg-031e\">10</td>\n",
    "    <td class=\"tg-031e\"></td>\n",
    "    <td class=\"tg-031e\"></td>\n",
    "    <td class=\"tg-031e\"><font color='red'>v</font></td>\n",
    "    <td class=\"tg-031e\">v</td>\n",
    "  </tr>\n",
    "</table>"
   ]
  },
  {
   "cell_type": "markdown",
   "metadata": {},
   "source": [
    "Now we should have 18 sparse matrices - 9 combinations shown above applied to subsets of 10 and 150 users. Two subsets were already created in previous assignment - those correspond to session_length = 10 and window_width = 10 (marked <font color=\"red\"> Red </font> in the table above)."
   ]
  },
  {
   "cell_type": "markdown",
   "metadata": {},
   "source": [
    "Implement function `prepare_sparse_train_set_window`.\n",
    "\n",
    "**Function arguments:**\n",
    "- path_to_csv_files - path to a directory, containing csv files\n",
    "- site_freq_path - path to a pickle file with frequency dictionary, which you created in the previous assignment\n",
    "- session_length - session length parameter\n",
    "- window_size - window width parameter \n",
    "\n",
    "**Function should return two objects:**\n",
    "- sparse matrix *X_sparse* (two-dimensional scipy.sparse.csr_matrix), where rows correspond to website sessions from *session_length* while columns of shape **max(site_id)** correspond to number of visits of *site_id* from session. \n",
    "- vector *y* (numpy array) of \"true answers\" - user's ID which produced a session from *X_sparse*\n",
    "\n",
    "**Details:**\n",
    "- Modify function `prepare_train_set` which was implemented in assignment 1\n",
    "- Some sessions may repeat - leave it as is, do not remove duplicates\n",
    "- Measure a loop's execution time using module *time* from package *time* or *tqdm* from *tqdm*\n",
    "- you should be able to process 150 files from *capstone_websites_data/150users/* in a couple of seconds (depending on function parameters). If it takes longer time - it's okay, but you can speed up your implementation."
   ]
  },
  {
   "cell_type": "code",
   "execution_count": 185,
   "metadata": {},
   "outputs": [],
   "source": [
    "import os\n",
    "import pickle\n",
    "import warnings\n",
    "\n",
    "import numpy as np\n",
    "import pandas as pd\n",
    "import statsmodels.api as sm\n",
    "\n",
    "from scipy import stats\n",
    "from glob import glob\n",
    "from itertools import islice\n",
    "from tqdm import tqdm_notebook\n",
    "from scipy.sparse import csr_matrix, vstack\n",
    "from matplotlib import pyplot as plt\n",
    "from statsmodels.stats.proportion import proportion_confint\n",
    "\n",
    "\n",
    "#disable Anaconda's warnings\n",
    "warnings.filterwarnings('ignore')\n",
    "\n",
    "\n",
    "%matplotlib inline"
   ]
  },
  {
   "cell_type": "code",
   "execution_count": 2,
   "metadata": {},
   "outputs": [],
   "source": [
    "# change the path to data if necessary\n",
    "PATH_TO_DATA = '../../data/capstone_user_identification'"
   ]
  },
  {
   "cell_type": "code",
   "execution_count": 154,
   "metadata": {},
   "outputs": [],
   "source": [
    "def window_slide(seq, session_length=10, window_size=10):\n",
    "    \n",
    "    def pad_seq(seq, width):\n",
    "        return np.pad(seq, pad_width=(0, width), mode=\"constant\", constant_values=0)\n",
    "        \n",
    "    start = 0\n",
    "    end = len(seq)\n",
    "    \n",
    "    while start < end:\n",
    "        data_slice = seq[start:start+session_length]\n",
    "        \n",
    "        if len(data_slice) < session_length:\n",
    "            # if slice len < session len -> pad with zeros up to session len           \n",
    "            data_slice = pad_seq(data_slice, width=session_length-len(data_slice))\n",
    "        \n",
    "        yield tuple(data_slice)\n",
    "        start += window_size    \n",
    "        \n",
    "def load_obj(path):\n",
    "    assert path[-3:] == \"pkl\", \"should be pickle\"\n",
    "    with open(path, \"rb\") as file:\n",
    "        object_ = pickle.load(file)\n",
    "    return object_\n",
    "\n",
    "def save_obj(obj, path):\n",
    "    assert path[-3:] == \"pkl\", \"should be pickle\"\n",
    "    with open(path, \"wb\") as file:\n",
    "        pickle.dump(obj, file)\n",
    "        print(\"Saved!\")\n",
    "\n",
    "def to_sparse(df, session_length):\n",
    "    sites_flatten = df.flatten()\n",
    "    values = [1] * sites_flatten.shape[0]\n",
    "\n",
    "    x_sparse = csr_matrix((values,\n",
    "                        sites_flatten,\n",
    "                        range(0, sites_flatten.shape[0]  + session_length, session_length)))[:, 1:]\n",
    "    return x_sparse"
   ]
  },
  {
   "cell_type": "code",
   "execution_count": 148,
   "metadata": {},
   "outputs": [],
   "source": [
    "def prepare_sparse_train_set_window(path_to_csv_files, site_freq_path, \n",
    "                                    session_length=10, window_size=10):\n",
    "    site_freq = load_obj(site_freq_path)\n",
    "    file_names = sorted(glob(path_to_csv_files + \"/*.csv\"))\n",
    "    y_user_ids = []\n",
    "    df_list = [] \n",
    "    \n",
    "    for file in file_names:\n",
    "        df, y = prepare_file(file, site_freq, session_length, window_size)\n",
    "        df_list.append(df)\n",
    "        y_user_ids.append(y)\n",
    "    \n",
    "    \n",
    "    full_df = np.vstack(df_list)\n",
    "    x_sparse = to_sparse(full_df, session_length)\n",
    "    \n",
    "    return x_sparse, np.hstack(y_user_ids)\n",
    "  \n",
    "def prepare_file(file_path, site_freq, session_length, window_size):\n",
    "    sites = pd.read_csv(file_path, sep=\",\")[\"site\"].values\n",
    "    \n",
    "    num_windows = np.ceil(sites.shape[0]/window_size).astype(int)\n",
    "    df = np.zeros((num_windows, session_length))\n",
    "    \n",
    "    site_id_encoder = lambda site_name: site_freq[site_name][0] if site_name != 0 else 0\n",
    "        \n",
    "    for row, session in enumerate(window_slide(sites, session_length, window_size)):\n",
    "        site_ids = [site_id_encoder(site) for site in session]\n",
    "        df[row, :] = site_ids\n",
    "\n",
    "    user_ids = np.array([int(file_path[-8:-4])] * num_windows)\n",
    "    \n",
    "    return df, user_ids"
   ]
  },
  {
   "cell_type": "markdown",
   "metadata": {},
   "source": [
    "Apply the function with parameters *session_length=5* and *window_size=3* to the toy example. Make sure that everything works correctly."
   ]
  },
  {
   "cell_type": "code",
   "execution_count": 150,
   "metadata": {},
   "outputs": [],
   "source": [
    "X_toy_s5_w3, y_s5_w3 = prepare_sparse_train_set_window(os.path.join(PATH_TO_DATA,'3users'), \n",
    "                                                       os.path.join(PATH_TO_DATA,'site_freq_3users.pkl'),\n",
    "                                       session_length=5, window_size=3)"
   ]
  },
  {
   "cell_type": "code",
   "execution_count": 163,
   "metadata": {},
   "outputs": [
    {
     "data": {
      "text/plain": [
       "'../../data/capstone_user_identification/3users'"
      ]
     },
     "execution_count": 163,
     "metadata": {},
     "output_type": "execute_result"
    }
   ],
   "source": [
    "os.path.join(PATH_TO_DATA,'3users')"
   ]
  },
  {
   "cell_type": "code",
   "execution_count": 151,
   "metadata": {},
   "outputs": [
    {
     "data": {
      "text/plain": [
       "matrix([[0, 3, 1, 0, 0, 0, 1, 0, 0, 0, 0],\n",
       "        [1, 1, 0, 0, 1, 0, 1, 1, 0, 0, 0],\n",
       "        [0, 0, 1, 0, 1, 0, 0, 1, 1, 1, 0],\n",
       "        [3, 0, 1, 0, 0, 0, 0, 0, 0, 1, 0],\n",
       "        [2, 0, 0, 0, 0, 0, 0, 0, 0, 0, 0],\n",
       "        [0, 2, 1, 0, 0, 2, 0, 0, 0, 0, 0],\n",
       "        [0, 1, 0, 0, 0, 1, 0, 0, 0, 0, 0],\n",
       "        [2, 2, 0, 1, 0, 0, 0, 0, 0, 0, 0],\n",
       "        [3, 1, 0, 0, 1, 0, 0, 0, 0, 0, 0],\n",
       "        [1, 0, 0, 2, 1, 0, 0, 0, 0, 0, 1],\n",
       "        [1, 1, 0, 2, 0, 0, 0, 0, 0, 0, 0],\n",
       "        [0, 1, 0, 0, 0, 0, 0, 0, 0, 0, 0]])"
      ]
     },
     "execution_count": 151,
     "metadata": {},
     "output_type": "execute_result"
    }
   ],
   "source": [
    "X_toy_s5_w3.todense()"
   ]
  },
  {
   "cell_type": "code",
   "execution_count": 162,
   "metadata": {},
   "outputs": [
    {
     "data": {
      "text/plain": [
       "12"
      ]
     },
     "execution_count": 162,
     "metadata": {},
     "output_type": "execute_result"
    }
   ],
   "source": [
    "X_toy_s5_w3.shape[0]"
   ]
  },
  {
   "cell_type": "code",
   "execution_count": 5,
   "metadata": {},
   "outputs": [
    {
     "data": {
      "text/plain": [
       "matrix([[0, 3, 1, 0, 0, 0, 0, 1, 0, 0, 0],\n",
       "        [1, 1, 0, 0, 1, 0, 0, 1, 0, 1, 0],\n",
       "        [0, 0, 1, 0, 1, 0, 1, 0, 1, 1, 0],\n",
       "        [3, 0, 1, 0, 0, 0, 0, 0, 1, 0, 0],\n",
       "        [2, 0, 0, 0, 0, 0, 0, 0, 0, 0, 0],\n",
       "        [0, 2, 1, 0, 0, 2, 0, 0, 0, 0, 0],\n",
       "        [0, 1, 0, 0, 0, 1, 0, 0, 0, 0, 0],\n",
       "        [2, 2, 0, 1, 0, 0, 0, 0, 0, 0, 0],\n",
       "        [3, 1, 0, 0, 1, 0, 0, 0, 0, 0, 0],\n",
       "        [1, 0, 0, 2, 1, 0, 0, 0, 0, 0, 1],\n",
       "        [1, 1, 0, 2, 0, 0, 0, 0, 0, 0, 0],\n",
       "        [0, 1, 0, 0, 0, 0, 0, 0, 0, 0, 0]])"
      ]
     },
     "execution_count": 5,
     "metadata": {},
     "output_type": "execute_result"
    }
   ],
   "source": [
    "X_toy_s5_w3.todense()"
   ]
  },
  {
   "cell_type": "code",
   "execution_count": 152,
   "metadata": {},
   "outputs": [
    {
     "data": {
      "text/plain": [
       "array([1, 1, 1, 1, 1, 2, 2, 3, 3, 3, 3, 3])"
      ]
     },
     "execution_count": 152,
     "metadata": {},
     "output_type": "execute_result"
    }
   ],
   "source": [
    "y_s5_w3"
   ]
  },
  {
   "cell_type": "code",
   "execution_count": 6,
   "metadata": {},
   "outputs": [
    {
     "data": {
      "text/plain": [
       "array([1, 1, 1, 1, 1, 2, 2, 3, 3, 3, 3, 3])"
      ]
     },
     "execution_count": 6,
     "metadata": {},
     "output_type": "execute_result"
    }
   ],
   "source": [
    "y_s5_w3"
   ]
  },
  {
   "cell_type": "markdown",
   "metadata": {},
   "source": [
    "Execute the function 16 times iterating on number of users (*num_users*, 10 or 150), values of parameter *session_length* (15, 10, 7, 5) and values of parameter *window_size* (10, 7, 5). Serialize all 16 sparse matrices (training samples) and vectors (target class values - user IDs) in files \n",
    "\n",
    "X_sparse_{num_users}users_s{session_length}_w{window_size}.pkl \n",
    "\n",
    "and \n",
    "\n",
    "y_{num_users}users_s{session_length}_w{window_size}.pkl.\n",
    "\n",
    "To ensure, that from now on we will be working with identical objects, write number of rows in each of 16 sparse matrices in the list *data_lengths*. If some values will be identical, it is ok (you can deduce why).\n",
    "\n",
    "On my laptop this code snippet executed in 26 seconds, but it obviously depends on how efficient your *prepare_sparse_train_set_window* implementation is and how powerful your hardware is. By the way my first implementation was not as good (34 minutes running time), so you have opportunity to improve your coding skills here. "
   ]
  },
  {
   "cell_type": "code",
   "execution_count": 153,
   "metadata": {},
   "outputs": [
    {
     "data": {
      "text/plain": [
       "'../../data/capstone_user_identification'"
      ]
     },
     "execution_count": 153,
     "metadata": {},
     "output_type": "execute_result"
    }
   ],
   "source": [
    "PATH_TO_DATA"
   ]
  },
  {
   "cell_type": "code",
   "execution_count": 169,
   "metadata": {},
   "outputs": [
    {
     "data": {
      "application/vnd.jupyter.widget-view+json": {
       "model_id": "f71f3f156d874a27ad203dc6ed14e500",
       "version_major": 2,
       "version_minor": 0
      },
      "text/plain": [
       "HBox(children=(IntProgress(value=1, bar_style='info', max=1), HTML(value='')))"
      ]
     },
     "metadata": {},
     "output_type": "display_data"
    },
    {
     "name": "stdout",
     "output_type": "stream",
     "text": [
      "Saved!\n",
      "Saved!\n",
      "1\n",
      "Saved!\n",
      "Saved!\n",
      "2\n",
      "Saved!\n",
      "Saved!\n",
      "3\n",
      "Saved!\n",
      "Saved!\n",
      "4\n",
      "Saved!\n",
      "Saved!\n",
      "5\n",
      "Saved!\n",
      "Saved!\n",
      "6\n",
      "Saved!\n",
      "Saved!\n",
      "7\n",
      "Saved!\n",
      "Saved!\n",
      "8\n",
      "\n"
     ]
    },
    {
     "data": {
      "application/vnd.jupyter.widget-view+json": {
       "model_id": "da9866f725454a228386d501ffc00983",
       "version_major": 2,
       "version_minor": 0
      },
      "text/plain": [
       "HBox(children=(IntProgress(value=1, bar_style='info', max=1), HTML(value='')))"
      ]
     },
     "metadata": {},
     "output_type": "display_data"
    },
    {
     "name": "stdout",
     "output_type": "stream",
     "text": [
      "Saved!\n",
      "Saved!\n",
      "9\n",
      "Saved!\n",
      "Saved!\n",
      "10\n",
      "Saved!\n",
      "Saved!\n",
      "11\n",
      "Saved!\n",
      "Saved!\n",
      "12\n",
      "Saved!\n",
      "Saved!\n",
      "13\n",
      "Saved!\n",
      "Saved!\n",
      "14\n",
      "Saved!\n",
      "Saved!\n",
      "15\n",
      "Saved!\n",
      "Saved!\n",
      "16\n",
      "\n",
      "CPU times: user 31.8 s, sys: 3.98 s, total: 35.8 s\n",
      "Wall time: 42 s\n"
     ]
    }
   ],
   "source": [
    "%%time\n",
    "import itertools\n",
    "from itertools import count\n",
    "\n",
    "counter = count(start=1)\n",
    "data_lengths = []\n",
    "\n",
    "for num_users in [10, 150]:\n",
    "    for window_size, session_length in tqdm_notebook(itertools.product([10, 7, 5], [15, 10, 7, 5])):\n",
    "        if window_size <= session_length and (window_size, session_length) != (10, 10):\n",
    "            # you code here\n",
    "            data_path = os.path.join(PATH_TO_DATA, f'{num_users}users')\n",
    "            site_freq_path = os.path.join(PATH_TO_DATA, f'site_freq_{num_users}users.pkl')\n",
    "            X_sparse, y = prepare_sparse_train_set_window(data_path, site_freq_path, \n",
    "                                                          session_length=session_length, \n",
    "                                                          window_size=window_size)\n",
    "            data_lengths.append(X_sparse.shape[0])\n",
    "            \n",
    "            # save objects             \n",
    "            save_obj(X_sparse, PATH_TO_DATA + f\"/X_sparse_{num_users}users_s{session_length}w{window_size}.pkl\")\n",
    "            save_obj(y, PATH_TO_DATA + f\"y_{num_users}users_s{session_length}w{window_size}.pkl\")\n",
    "            print(next(counter))"
   ]
  },
  {
   "cell_type": "markdown",
   "metadata": {},
   "source": [
    "**<font color='red'> Question 1. </font> How many unique values are there in the list *data_lengths*?**"
   ]
  },
  {
   "cell_type": "code",
   "execution_count": 172,
   "metadata": {},
   "outputs": [
    {
     "data": {
      "text/plain": [
       "(6,)"
      ]
     },
     "execution_count": 172,
     "metadata": {},
     "output_type": "execute_result"
    }
   ],
   "source": [
    "# you code here\n",
    "np.unique(data_lengths).shape"
   ]
  },
  {
   "cell_type": "markdown",
   "metadata": {},
   "source": [
    "## Part 2. Basic data analysis and hypothesis testing"
   ]
  },
  {
   "cell_type": "markdown",
   "metadata": {},
   "source": [
    "Let's read the file **train_data_10users.csv** from first assignment in the dataframe. "
   ]
  },
  {
   "cell_type": "code",
   "execution_count": 173,
   "metadata": {},
   "outputs": [],
   "source": [
    "train_df = pd.read_csv(os.path.join(PATH_TO_DATA, 'train_data_10users.csv'), \n",
    "                       index_col='session_id')"
   ]
  },
  {
   "cell_type": "code",
   "execution_count": 179,
   "metadata": {},
   "outputs": [
    {
     "data": {
      "text/html": [
       "<div>\n",
       "<style scoped>\n",
       "    .dataframe tbody tr th:only-of-type {\n",
       "        vertical-align: middle;\n",
       "    }\n",
       "\n",
       "    .dataframe tbody tr th {\n",
       "        vertical-align: top;\n",
       "    }\n",
       "\n",
       "    .dataframe thead th {\n",
       "        text-align: right;\n",
       "    }\n",
       "</style>\n",
       "<table border=\"1\" class=\"dataframe\">\n",
       "  <thead>\n",
       "    <tr style=\"text-align: right;\">\n",
       "      <th></th>\n",
       "      <th>site1</th>\n",
       "      <th>site2</th>\n",
       "      <th>site3</th>\n",
       "      <th>site4</th>\n",
       "      <th>site5</th>\n",
       "      <th>site6</th>\n",
       "      <th>site7</th>\n",
       "      <th>site8</th>\n",
       "      <th>site9</th>\n",
       "      <th>site10</th>\n",
       "      <th>target</th>\n",
       "    </tr>\n",
       "    <tr>\n",
       "      <th>session_id</th>\n",
       "      <th></th>\n",
       "      <th></th>\n",
       "      <th></th>\n",
       "      <th></th>\n",
       "      <th></th>\n",
       "      <th></th>\n",
       "      <th></th>\n",
       "      <th></th>\n",
       "      <th></th>\n",
       "      <th></th>\n",
       "      <th></th>\n",
       "    </tr>\n",
       "  </thead>\n",
       "  <tbody>\n",
       "    <tr>\n",
       "      <th>0</th>\n",
       "      <td>192</td>\n",
       "      <td>574</td>\n",
       "      <td>133</td>\n",
       "      <td>3</td>\n",
       "      <td>133</td>\n",
       "      <td>133</td>\n",
       "      <td>3</td>\n",
       "      <td>133</td>\n",
       "      <td>203</td>\n",
       "      <td>133</td>\n",
       "      <td>31</td>\n",
       "    </tr>\n",
       "    <tr>\n",
       "      <th>1</th>\n",
       "      <td>415</td>\n",
       "      <td>193</td>\n",
       "      <td>674</td>\n",
       "      <td>254</td>\n",
       "      <td>133</td>\n",
       "      <td>31</td>\n",
       "      <td>393</td>\n",
       "      <td>3305</td>\n",
       "      <td>217</td>\n",
       "      <td>55</td>\n",
       "      <td>31</td>\n",
       "    </tr>\n",
       "    <tr>\n",
       "      <th>2</th>\n",
       "      <td>55</td>\n",
       "      <td>3</td>\n",
       "      <td>55</td>\n",
       "      <td>55</td>\n",
       "      <td>5</td>\n",
       "      <td>293</td>\n",
       "      <td>415</td>\n",
       "      <td>333</td>\n",
       "      <td>897</td>\n",
       "      <td>55</td>\n",
       "      <td>31</td>\n",
       "    </tr>\n",
       "    <tr>\n",
       "      <th>3</th>\n",
       "      <td>473</td>\n",
       "      <td>3306</td>\n",
       "      <td>473</td>\n",
       "      <td>55</td>\n",
       "      <td>55</td>\n",
       "      <td>55</td>\n",
       "      <td>55</td>\n",
       "      <td>937</td>\n",
       "      <td>199</td>\n",
       "      <td>123</td>\n",
       "      <td>31</td>\n",
       "    </tr>\n",
       "    <tr>\n",
       "      <th>4</th>\n",
       "      <td>342</td>\n",
       "      <td>55</td>\n",
       "      <td>5</td>\n",
       "      <td>3307</td>\n",
       "      <td>258</td>\n",
       "      <td>211</td>\n",
       "      <td>3308</td>\n",
       "      <td>2086</td>\n",
       "      <td>675</td>\n",
       "      <td>2086</td>\n",
       "      <td>31</td>\n",
       "    </tr>\n",
       "  </tbody>\n",
       "</table>\n",
       "</div>"
      ],
      "text/plain": [
       "            site1  site2  site3  site4  site5  site6  site7  site8  site9  \\\n",
       "session_id                                                                  \n",
       "0             192    574    133      3    133    133      3    133    203   \n",
       "1             415    193    674    254    133     31    393   3305    217   \n",
       "2              55      3     55     55      5    293    415    333    897   \n",
       "3             473   3306    473     55     55     55     55    937    199   \n",
       "4             342     55      5   3307    258    211   3308   2086    675   \n",
       "\n",
       "            site10  target  \n",
       "session_id                  \n",
       "0              133      31  \n",
       "1               55      31  \n",
       "2               55      31  \n",
       "3              123      31  \n",
       "4             2086      31  "
      ]
     },
     "execution_count": 179,
     "metadata": {},
     "output_type": "execute_result"
    }
   ],
   "source": [
    "train_df.head()"
   ]
  },
  {
   "cell_type": "code",
   "execution_count": 175,
   "metadata": {},
   "outputs": [
    {
     "name": "stdout",
     "output_type": "stream",
     "text": [
      "<class 'pandas.core.frame.DataFrame'>\n",
      "Int64Index: 14061 entries, 0 to 14060\n",
      "Data columns (total 11 columns):\n",
      "site1     14061 non-null int64\n",
      "site2     14061 non-null int64\n",
      "site3     14061 non-null int64\n",
      "site4     14061 non-null int64\n",
      "site5     14061 non-null int64\n",
      "site6     14061 non-null int64\n",
      "site7     14061 non-null int64\n",
      "site8     14061 non-null int64\n",
      "site9     14061 non-null int64\n",
      "site10    14061 non-null int64\n",
      "target    14061 non-null int64\n",
      "dtypes: int64(11)\n",
      "memory usage: 1.3 MB\n"
     ]
    }
   ],
   "source": [
    "train_df.info()"
   ]
  },
  {
   "cell_type": "markdown",
   "metadata": {},
   "source": [
    "Target variable distribution:"
   ]
  },
  {
   "cell_type": "code",
   "execution_count": 177,
   "metadata": {},
   "outputs": [
    {
     "data": {
      "text/plain": [
       "128    2796\n",
       "39     2204\n",
       "207    1868\n",
       "127    1712\n",
       "237    1643\n",
       "33     1022\n",
       "50      802\n",
       "31      760\n",
       "100     720\n",
       "241     534\n",
       "Name: target, dtype: int64"
      ]
     },
     "execution_count": 177,
     "metadata": {},
     "output_type": "execute_result"
    }
   ],
   "source": [
    "train_df['target'].value_counts()"
   ]
  },
  {
   "cell_type": "markdown",
   "metadata": {},
   "source": [
    "Here we calculate the distribution of the number of unique websites in each session of length 10."
   ]
  },
  {
   "cell_type": "code",
   "execution_count": 180,
   "metadata": {},
   "outputs": [],
   "source": [
    "num_unique_sites = [np.unique(train_df.values[i, :-1]).shape[0] \n",
    "                    for i in range(train_df.shape[0])]"
   ]
  },
  {
   "cell_type": "code",
   "execution_count": 181,
   "metadata": {},
   "outputs": [
    {
     "data": {
      "text/plain": [
       "7     2308\n",
       "6     2197\n",
       "8     2046\n",
       "5     1735\n",
       "9     1394\n",
       "2     1246\n",
       "4     1163\n",
       "3      894\n",
       "10     651\n",
       "1      427\n",
       "dtype: int64"
      ]
     },
     "execution_count": 181,
     "metadata": {},
     "output_type": "execute_result"
    }
   ],
   "source": [
    "pd.Series(num_unique_sites).value_counts()"
   ]
  },
  {
   "cell_type": "code",
   "execution_count": 182,
   "metadata": {},
   "outputs": [
    {
     "data": {
      "image/png": "[encoded data removed]",
      "text/plain": [
       "<Figure size 432x288 with 1 Axes>"
      ]
     },
     "metadata": {
      "needs_background": "light"
     },
     "output_type": "display_data"
    }
   ],
   "source": [
    "pd.Series(num_unique_sites).hist();"
   ]
  },
  {
   "cell_type": "markdown",
   "metadata": {},
   "source": [
    "Using QQ-plot and Shapiro-Wilk criterion, verify the assumption, that this variable has normal distriburion.\n",
    "\n",
    "**<font color='red'>Question 2.</font> Is the number of unique websites in each session normally distributed (according to the Shapiro-Wilk criterion)?**"
   ]
  },
  {
   "cell_type": "code",
   "execution_count": 198,
   "metadata": {},
   "outputs": [
    {
     "data": {
      "text/plain": [
       "(0.9546933174133301, 0.0)"
      ]
     },
     "execution_count": 198,
     "metadata": {},
     "output_type": "execute_result"
    }
   ],
   "source": [
    "# you code here\n",
    "stats.shapiro(num_unique_sites)"
   ]
  },
  {
   "cell_type": "code",
   "execution_count": 191,
   "metadata": {},
   "outputs": [
    {
     "data": {
      "image/png": "[encoded data removed]",
      "text/plain": [
       "<Figure size 432x288 with 1 Axes>"
      ]
     },
     "execution_count": 191,
     "metadata": {},
     "output_type": "execute_result"
    },
    {
     "data": {
      "image/png": "[encoded data removed]",
      "text/plain": [
       "<Figure size 432x288 with 1 Axes>"
      ]
     },
     "metadata": {
      "needs_background": "light"
     },
     "output_type": "display_data"
    }
   ],
   "source": [
    "sm.qqplot(np.array(num_unique_sites), loc=np.array(num_unique_sites).mean(), scale=np.array(num_unique_sites).std())"
   ]
  },
  {
   "cell_type": "code",
   "execution_count": 196,
   "metadata": {},
   "outputs": [
    {
     "data": {
      "image/png": "[encoded data removed]",
      "text/plain": [
       "<Figure size 432x288 with 1 Axes>"
      ]
     },
     "metadata": {
      "needs_background": "light"
     },
     "output_type": "display_data"
    }
   ],
   "source": [
    "stats.probplot((np.array(num_unique_sites)), dist=\"norm\", plot=plt)\n",
    "plt.show()"
   ]
  },
  {
   "cell_type": "markdown",
   "metadata": {},
   "source": [
    "Test the following hypothesis: at least once, a user will visit the site, that he/she visited previously (in the session of 10 sites).  \n",
    "\n",
    "Here we stick to binomial criterion to show, that the fraction of cases, where user visited the website again (that is, number of unique sites in session is less than 10) is big enough - bigger than 95%. Notice, that this criterion is one-sided. \n",
    "\n",
    "**<font color='red'>Question 3.</font> What's the p-value in the described hypothesis checking?**"
   ]
  },
  {
   "cell_type": "markdown",
   "metadata": {},
   "source": [
    "H0: prob > 0.95"
   ]
  },
  {
   "cell_type": "code",
   "execution_count": 202,
   "metadata": {},
   "outputs": [],
   "source": [
    "has_two_similar = (np.array(num_unique_sites) < 10).astype('int')"
   ]
  },
  {
   "cell_type": "code",
   "execution_count": 233,
   "metadata": {},
   "outputs": [],
   "source": [
    "# # you code here\n",
    "pi_val = stats.binom_test(has_two_similar.sum(), n=len(has_two_similar), p=0.95, alternative=\"greater\")"
   ]
  },
  {
   "cell_type": "code",
   "execution_count": 235,
   "metadata": {},
   "outputs": [
    {
     "data": {
      "text/plain": [
       "0.02207653769072678"
      ]
     },
     "execution_count": 235,
     "metadata": {},
     "output_type": "execute_result"
    }
   ],
   "source": [
    "pi_val"
   ]
  },
  {
   "cell_type": "markdown",
   "metadata": {},
   "source": [
    "**<font color='red'>Question 4.</font> What's the 95% Wilson confidence interval for the fraction of cases when a user re-visited a site?**"
   ]
  },
  {
   "cell_type": "code",
   "execution_count": 238,
   "metadata": {},
   "outputs": [],
   "source": [
    "# # you code here\n",
    "wilson_interval = proportion_confint(has_two_similar.sum(), len(has_two_similar))"
   ]
  },
  {
   "cell_type": "code",
   "execution_count": 239,
   "metadata": {},
   "outputs": [
    {
     "name": "stdout",
     "output_type": "stream",
     "text": [
      "0.95 0.957\n"
     ]
    }
   ],
   "source": [
    "print('{} {}'.format(round(wilson_interval[0], 3),\n",
    "                                   round(wilson_interval[1], 3)))"
   ]
  },
  {
   "cell_type": "markdown",
   "metadata": {},
   "source": [
    "Calculate the frequency distribution of website visits (how many times website appears in a session) for websites, that were visited at least 1000 times."
   ]
  },
  {
   "cell_type": "code",
   "execution_count": 242,
   "metadata": {},
   "outputs": [],
   "source": [
    "site_freq_all = load_obj(os.path.join(PATH_TO_DATA, 'site_freq_10users.pkl'))"
   ]
  },
  {
   "cell_type": "code",
   "execution_count": 262,
   "metadata": {},
   "outputs": [],
   "source": [
    "# # you code here\n",
    "site_freqs = [value[1] for value in site_freq_all.values() if value[1] > 1000]"
   ]
  },
  {
   "cell_type": "code",
   "execution_count": 263,
   "metadata": {},
   "outputs": [
    {
     "data": {
      "text/plain": [
       "[8300,\n",
       " 7813,\n",
       " 5441,\n",
       " 4158,\n",
       " 4141,\n",
       " 3758,\n",
       " 3244,\n",
       " 3094,\n",
       " 2630,\n",
       " 2089,\n",
       " 1939,\n",
       " 1868,\n",
       " 1804,\n",
       " 1702,\n",
       " 1493,\n",
       " 1441,\n",
       " 1388,\n",
       " 1265,\n",
       " 1232,\n",
       " 1204,\n",
       " 1057,\n",
       " 1041,\n",
       " 1039,\n",
       " 1039,\n",
       " 1002]"
      ]
     },
     "execution_count": 263,
     "metadata": {},
     "output_type": "execute_result"
    }
   ],
   "source": [
    "site_freqs"
   ]
  },
  {
   "cell_type": "markdown",
   "metadata": {},
   "source": [
    "Calculate 95% confidence interval for average website frequency in the whole sample (not only those, which were visited at least 1000 times) using bootstrap technique. Use the amount of bootstrapped subsamples equal to the number of sites in the initial sample of 10 users. Use subsamples from the list of frequencies you have just calculcated, no need to recalculate them. Notice, that frequency of encountering 0 (index 0 appeared only in the sessions shorter than 10) should be removed. Round interval endpoints to 3 digits. This will be the answer to question 5 in the webform.\n",
    "\n",
    "**<font color='red'>Question 5.</font>  What's the 95% confidence interval for average website frequency?**"
   ]
  },
  {
   "cell_type": "code",
   "execution_count": 265,
   "metadata": {},
   "outputs": [],
   "source": [
    "def get_bootstrap_samples(data, n_samples, random_seed=17):\n",
    "    np.random.seed(random_seed)\n",
    "    indices = np.random.randint(0, len(data), (n_samples, len(data)))\n",
    "    samples = data[indices]\n",
    "    return samples"
   ]
  },
  {
   "cell_type": "code",
   "execution_count": 264,
   "metadata": {},
   "outputs": [],
   "source": [
    "def stat_intervals(stat, alpha):\n",
    "    boundaries = np.percentile(stat, \n",
    "                 [100 * alpha / 2., 100 * (1 - alpha / 2.)])\n",
    "    return boundaries"
   ]
  },
  {
   "cell_type": "code",
   "execution_count": 268,
   "metadata": {},
   "outputs": [],
   "source": [
    "# you code here\n",
    "site_freqs = [value[1] for value in site_freq_all.values()]"
   ]
  },
  {
   "cell_type": "code",
   "execution_count": 291,
   "metadata": {},
   "outputs": [],
   "source": [
    "samples = get_bootstrap_samples(np.array(site_freqs), len(site_freq_all.values()))"
   ]
  },
  {
   "cell_type": "code",
   "execution_count": 292,
   "metadata": {},
   "outputs": [
    {
     "data": {
      "text/plain": [
       "array([22.5, 35.8])"
      ]
     },
     "execution_count": 292,
     "metadata": {},
     "output_type": "execute_result"
    }
   ],
   "source": [
    "np.round(stat_intervals(np.mean(samples, axis=1), 0.05), 1)"
   ]
  },
  {
   "cell_type": "markdown",
   "metadata": {},
   "source": [
    "Next week, we will be doing exploratory data analysis via plots as well as creating useful features for further machine learning models."
   ]
  }
 ],
 "metadata": {
  "anaconda-cloud": {},
  "kernelspec": {
   "display_name": "Python 3",
   "language": "python",
   "name": "python3"
  },
  "language_info": {
   "codemirror_mode": {
    "name": "ipython",
    "version": 3
   },
   "file_extension": ".py",
   "mimetype": "text/x-python",
   "name": "python",
   "nbconvert_exporter": "python",
   "pygments_lexer": "ipython3",
   "version": "3.7.0"
  },
  "nbTranslate": {
   "displayLangs": [
    "*"
   ],
   "hotkey": "alt-t",
   "langInMainMenu": true,
   "sourceLang": "en",
   "targetLang": "fr",
   "useGoogleTranslate": true
  },
  "toc": {
   "base_numbering": 1,
   "nav_menu": {},
   "number_sections": true,
   "sideBar": true,
   "skip_h1_title": false,
   "title_cell": "Table of Contents",
   "title_sidebar": "Contents",
   "toc_cell": false,
   "toc_position": {},
   "toc_section_display": true,
   "toc_window_display": false
  }
 },
 "nbformat": 4,
 "nbformat_minor": 2
}
