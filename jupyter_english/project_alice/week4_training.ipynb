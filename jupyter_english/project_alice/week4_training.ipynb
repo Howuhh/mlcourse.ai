{
 "cells": [
  {
   "cell_type": "markdown",
   "metadata": {},
   "source": [
    "<center>\n",
    "<img src=\"../../img/ods_stickers.jpg\" />\n",
    "    \n",
    "## [mlcourse.ai](https://mlcourse.ai) – Open Machine Learning Course \n",
    "Author: [Yury Kashnitskiy](https://yorko.github.io) (@yorko). This material is subject to the terms and conditions of the [Creative Commons CC BY-NC-SA 4.0](https://creativecommons.org/licenses/by-nc-sa/4.0/) license. Free use is permitted for any non-commercial purpose. This material is a translated version of the Capstone project (by the same author) from specialization \"Machine learning and data analysis\" by Yandex and MIPT. No solutions shared."
   ]
  },
  {
   "cell_type": "markdown",
   "metadata": {},
   "source": [
    "# <center>Week 4.  Classification algorithms comparison\n",
    "\n",
    "Finally, we are going to train classification models, compare several algorithms via cross-validation, and figure out which session's parameters (*session_length* и *window_size*) it is better to use. Also, for the chosen algorithm, we will plot learning curves (which show the dependecy of model performance on the amount of training data) and validation curves (which show the dependency of model performance on one of it's hyperparameters).\n",
    "\n",
    "**Week 4 roadmap:**\n",
    "- Part 1. Different algorithms comparison on sessions of 10 websites\n",
    "- Part 2. Hyperparameter tuning – session_length and window_size\n",
    "- Part 3. Particular user identification and learning curves\n",
    "\n",
    "**You might find following links useful:**\n",
    "   - [Hyperparameter Optimization in Machine Learning Models](https://www.datacamp.com/community/tutorials/parameter-optimization-machine-learning-models)\n",
    "   - [Optimizing your model with cross-validation](http://blog.kaggle.com/2015/06/29/scikit-learn-video-7-optimizing-your-model-with-cross-validation/)"
   ]
  },
  {
   "cell_type": "markdown",
   "metadata": {},
   "source": [
    "**Your task**\n",
    "1. Fill in code in provided notebook\n",
    "2. Choose the answers in the [form](https://docs.google.com/forms/d/10kYgawyf9kId7VDOnBhQ6PH64rU2HR0CmTy5CDwy2Vo)"
   ]
  },
  {
   "cell_type": "code",
   "execution_count": 1,
   "metadata": {},
   "outputs": [],
   "source": [
    "# pip install watermark\n",
    "%load_ext watermark"
   ]
  },
  {
   "cell_type": "code",
   "execution_count": 2,
   "metadata": {},
   "outputs": [
    {
     "name": "stdout",
     "output_type": "stream",
     "text": [
      "CPython 3.7.0\n",
      "IPython 6.5.0\n",
      "\n",
      "numpy 1.14.5\n",
      "scipy 1.1.0\n",
      "pandas 0.23.4\n",
      "matplotlib 2.2.3\n",
      "statsmodels 0.9.0\n",
      "sklearn 0.20.0\n",
      "\n",
      "compiler   : Clang 6.0 (clang-600.0.57)\n",
      "system     : Darwin\n",
      "release    : 17.7.0\n",
      "machine    : x86_64\n",
      "processor  : i386\n",
      "CPU cores  : 4\n",
      "interpreter: 64bit\n",
      "Git hash   : 3ec98f89842959c7c200f65f051d89af17ea60e0\n"
     ]
    }
   ],
   "source": [
    "%watermark -v -m -p numpy,scipy,pandas,matplotlib,statsmodels,sklearn -g"
   ]
  },
  {
   "cell_type": "code",
   "execution_count": 12,
   "metadata": {},
   "outputs": [],
   "source": [
    "import os\n",
    "import warnings\n",
    "import itertools\n",
    "import pickle\n",
    "\n",
    "import numpy as np\n",
    "import pandas as pd\n",
    "import seaborn as sns\n",
    "\n",
    "\n",
    "from time import time\n",
    "from matplotlib import pyplot as plt\n",
    "from scipy.sparse import csr_matrix\n",
    "\n",
    "from __future__ import division, print_function\n",
    "from sklearn.metrics import accuracy_score, f1_score\n",
    "from sklearn.model_selection import train_test_split, cross_val_score, StratifiedKFold, GridSearchCV\n",
    "\n",
    "sns.set()\n",
    "\n",
    "# disable Anaconda warnings\n",
    "warnings.filterwarnings('ignore')"
   ]
  },
  {
   "cell_type": "code",
   "execution_count": 13,
   "metadata": {},
   "outputs": [],
   "source": [
    "# Change the path to data\n",
    "PATH_TO_DATA = '../../data/capstone_user_identification/'"
   ]
  },
  {
   "cell_type": "markdown",
   "metadata": {},
   "source": [
    "## Part 1. Different algorithms comparison on sessions of 10 websites"
   ]
  },
  {
   "cell_type": "markdown",
   "metadata": {},
   "source": [
    "**Load *X_sparse_10users* and *y_10users* objects serialized earlier, which correspond to 10 users data.**"
   ]
  },
  {
   "cell_type": "code",
   "execution_count": 5,
   "metadata": {},
   "outputs": [],
   "source": [
    "#You might wanna check the `encoding` param if you face any error while opening the .pkl files..\n",
    "with open(os.path.join(PATH_TO_DATA, \n",
    "         'X_sparse_10users.pkl'), 'rb') as X_sparse_10users_pkl:\n",
    "    X_sparse_10users = pickle.load(X_sparse_10users_pkl)\n",
    "with open(os.path.join(PATH_TO_DATA, \n",
    "                       'y_10users.pkl'), 'rb') as y_10users_pkl:\n",
    "    y_10users = pickle.load(y_10users_pkl)"
   ]
  },
  {
   "cell_type": "markdown",
   "metadata": {},
   "source": [
    "**There are more than 14 thousand sessions and almost 5 thousand unique websites.**"
   ]
  },
  {
   "cell_type": "code",
   "execution_count": 6,
   "metadata": {},
   "outputs": [
    {
     "data": {
      "text/plain": [
       "(14061, 4913)"
      ]
     },
     "execution_count": 6,
     "metadata": {},
     "output_type": "execute_result"
    }
   ],
   "source": [
    "X_sparse_10users.shape"
   ]
  },
  {
   "cell_type": "markdown",
   "metadata": {},
   "source": [
    "**Split the data into two parts. We are going to use the first part for cross-validation, second part will be used to evaluate performance of the model that we will end up with after cross-validation.**"
   ]
  },
  {
   "cell_type": "code",
   "execution_count": 9,
   "metadata": {},
   "outputs": [],
   "source": [
    "X_train, X_valid, y_train, y_valid = train_test_split(X_sparse_10users, y_10users, \n",
    "                                                      test_size=0.3, \n",
    "                                                      random_state=17, stratify=y_10users)"
   ]
  },
  {
   "cell_type": "markdown",
   "metadata": {},
   "source": [
    "**Define cross-validation: 3-fold, with shuffle, random_state=17 – for reproducibility.**"
   ]
  },
  {
   "cell_type": "code",
   "execution_count": 10,
   "metadata": {},
   "outputs": [],
   "source": [
    "skf = StratifiedKFold(n_splits=3, shuffle=True, random_state=17)"
   ]
  },
  {
   "cell_type": "markdown",
   "metadata": {},
   "source": [
    "**Utility function to plot validation curves after running `GridSearchCV` (or `RandomizedCV`).**"
   ]
  },
  {
   "cell_type": "code",
   "execution_count": 11,
   "metadata": {},
   "outputs": [],
   "source": [
    "def plot_validation_curves(param_values, grid_cv_results_):\n",
    "    \n",
    "    train_mu, train_std = grid_cv_results_['mean_train_score'], grid_cv_results_['std_train_score']\n",
    "    valid_mu, valid_std = grid_cv_results_['mean_test_score'], grid_cv_results_['std_test_score']\n",
    "    train_line = plt.plot(param_values, train_mu, '-', label='train', color='green')\n",
    "    valid_line = plt.plot(param_values, valid_mu, '-', label='test', color='red')\n",
    "    plt.fill_between(param_values, train_mu - train_std, train_mu + train_std, edgecolor='none',\n",
    "                     facecolor=train_line[0].get_color(), alpha=0.2)\n",
    "    plt.fill_between(param_values, valid_mu - valid_std, valid_mu + valid_std, edgecolor='none',\n",
    "                     facecolor=valid_line[0].get_color(), alpha=0.2)\n",
    "    plt.legend()"
   ]
  },
  {
   "cell_type": "markdown",
   "metadata": {},
   "source": [
    "**1. Train `KNeighborsClassifier` with 100 nearest neighbours (leave other parameters default values, only set `n_jobs = -1` for parallelization) and compare model's mean accuracy during 3-fold cross-validation (for reproducibility use `skf` object) on `(X_train, y_train)` and model's accuracy on `(X_valid, y_valid)`.**"
   ]
  },
  {
   "cell_type": "code",
   "execution_count": 14,
   "metadata": {},
   "outputs": [],
   "source": [
    "from sklearn.neighbors import KNeighborsClassifier"
   ]
  },
  {
   "cell_type": "code",
   "execution_count": 15,
   "metadata": {},
   "outputs": [],
   "source": [
    "knn = KNeighborsClassifier(n_neighbors=100, n_jobs=-1)"
   ]
  },
  {
   "cell_type": "markdown",
   "metadata": {},
   "source": [
    "**<font color='red'>Question 1. </font> Evaluate KNeighborsClassifier's mean accuracy during cross-validation and model's accuracy on the validation dataset. Round your answers up to the third digit after a decimal point. Write your answers with a space between them.**"
   ]
  },
  {
   "cell_type": "code",
   "execution_count": 18,
   "metadata": {},
   "outputs": [
    {
     "data": {
      "text/plain": [
       "0.5647188870063362"
      ]
     },
     "execution_count": 18,
     "metadata": {},
     "output_type": "execute_result"
    }
   ],
   "source": [
    "cross_val_score(knn, X_train, y_train, cv=skf).mean()"
   ]
  },
  {
   "cell_type": "code",
   "execution_count": 19,
   "metadata": {},
   "outputs": [
    {
     "data": {
      "text/plain": [
       "0.584024650391088"
      ]
     },
     "execution_count": 19,
     "metadata": {},
     "output_type": "execute_result"
    }
   ],
   "source": [
    "knn.fit(X_train, y_train)\n",
    "accuracy_score(y_valid, knn.predict(X_valid))"
   ]
  },
  {
   "cell_type": "markdown",
   "metadata": {},
   "source": [
    "**2. Train a random forest (`RandomForestClassifier`) consisting of 100 trees (for reproducibility use `random_state`=17). Compare model's OOB-score on and its accuracy on `(X_valid, y_valid)`. Use `n_jobs = -1` for parallelization.**"
   ]
  },
  {
   "cell_type": "code",
   "execution_count": 20,
   "metadata": {},
   "outputs": [],
   "source": [
    "from sklearn.ensemble import RandomForestClassifier"
   ]
  },
  {
   "cell_type": "code",
   "execution_count": 21,
   "metadata": {},
   "outputs": [],
   "source": [
    "forest = RandomForestClassifier(n_estimators=100, random_state=17, n_jobs=-1, oob_score=True)"
   ]
  },
  {
   "cell_type": "markdown",
   "metadata": {},
   "source": [
    "**<font color='red'>Question 2. </font> Evaluate `RandomForestClassifier` Out-of-Bag aka OOB score and its accuracy on the validation dataset. Round your answers up to the third digit after a decimal point. Write your answers with a space between them.**"
   ]
  },
  {
   "cell_type": "code",
   "execution_count": 22,
   "metadata": {},
   "outputs": [
    {
     "data": {
      "text/plain": [
       "RandomForestClassifier(bootstrap=True, class_weight=None, criterion='gini',\n",
       "            max_depth=None, max_features='auto', max_leaf_nodes=None,\n",
       "            min_impurity_decrease=0.0, min_impurity_split=None,\n",
       "            min_samples_leaf=1, min_samples_split=2,\n",
       "            min_weight_fraction_leaf=0.0, n_estimators=100, n_jobs=-1,\n",
       "            oob_score=True, random_state=17, verbose=0, warm_start=False)"
      ]
     },
     "execution_count": 22,
     "metadata": {},
     "output_type": "execute_result"
    }
   ],
   "source": [
    "forest.fit(X_train, y_train)"
   ]
  },
  {
   "cell_type": "code",
   "execution_count": 26,
   "metadata": {},
   "outputs": [
    {
     "data": {
      "text/plain": [
       "0.717"
      ]
     },
     "execution_count": 26,
     "metadata": {},
     "output_type": "execute_result"
    }
   ],
   "source": [
    "round(forest.oob_score_, 3)"
   ]
  },
  {
   "cell_type": "code",
   "execution_count": 27,
   "metadata": {},
   "outputs": [
    {
     "data": {
      "text/plain": [
       "0.731"
      ]
     },
     "execution_count": 27,
     "metadata": {},
     "output_type": "execute_result"
    }
   ],
   "source": [
    "round(accuracy_score(y_valid, forest.predict(X_valid)), 3)"
   ]
  },
  {
   "cell_type": "markdown",
   "metadata": {},
   "source": [
    "**3. Train logistic regression with default C value and `random_state`=17. Compare model's mean accuracy during 3-fold cross-validation (don't forget to use `skf` object) on `(X_train, y_train)` and model's accuracy on `(X_valid, y_valid)`. Use `n_jobs = -1` for parallelization.**"
   ]
  },
  {
   "cell_type": "code",
   "execution_count": 29,
   "metadata": {},
   "outputs": [],
   "source": [
    "from sklearn.linear_model import LogisticRegression, LogisticRegressionCV"
   ]
  },
  {
   "cell_type": "code",
   "execution_count": 30,
   "metadata": {},
   "outputs": [],
   "source": [
    "logit = LogisticRegression(random_state=17, n_jobs=-1)"
   ]
  },
  {
   "cell_type": "code",
   "execution_count": 34,
   "metadata": {},
   "outputs": [
    {
     "data": {
      "text/plain": [
       "0.761"
      ]
     },
     "execution_count": 34,
     "metadata": {},
     "output_type": "execute_result"
    }
   ],
   "source": [
    "round(cross_val_score(logit, X_train, y_train, cv=skf).mean(), 3)"
   ]
  },
  {
   "cell_type": "code",
   "execution_count": 35,
   "metadata": {},
   "outputs": [
    {
     "data": {
      "text/plain": [
       "0.782"
      ]
     },
     "execution_count": 35,
     "metadata": {},
     "output_type": "execute_result"
    }
   ],
   "source": [
    "logit.fit(X_train, y_train)\n",
    "round(accuracy_score(y_valid, logit.predict(X_valid)), 3)"
   ]
  },
  {
   "cell_type": "markdown",
   "metadata": {},
   "source": [
    "**Read the documentation for [LogisticRegressionCV](http://scikit-learn.org/stable/modules/generated/sklearn.linear_model.LogisticRegressionCV.html). Logistic regression is well studied and there are algorithms for fast parameter `C` search (faster than using `GridSearchCV`).**\n",
    "\n",
    "**Using `LogisticRegressionCV` find optimal C value. Fisrt try wider range: 10 values from 1e-4 up to 1e2 using `logspace` from `NumPy`. Specify `multi_class`='multinomial' and `random_state`=17 for `LogisticRegressionCV`. For cross-validation use `skf` object created earlier. Use `n_jobs`=-1 for parallelization.**\n",
    "\n",
    "**Plot validation curves for parameter `C`.**"
   ]
  },
  {
   "cell_type": "code",
   "execution_count": 36,
   "metadata": {},
   "outputs": [
    {
     "name": "stdout",
     "output_type": "stream",
     "text": [
      "CPU times: user 1.12 s, sys: 108 ms, total: 1.22 s\n",
      "Wall time: 17.4 s\n"
     ]
    }
   ],
   "source": [
    "%%time\n",
    "logit_c_values1 = np.logspace(-4, 2, 10)\n",
    "\n",
    "logit_grid_searcher1 = LogisticRegressionCV(Cs=logit_c_values1, multi_class=\"multinomial\", random_state=17, n_jobs=-1)\n",
    "logit_grid_searcher1.fit(X_train, y_train)"
   ]
  },
  {
   "cell_type": "markdown",
   "metadata": {},
   "source": [
    "**Mean accuracy during cross-validation for each of 10 `C` values.**"
   ]
  },
  {
   "cell_type": "code",
   "execution_count": 58,
   "metadata": {},
   "outputs": [],
   "source": [
    "logit_mean_cv_scores1 = logit_grid_searcher1.scores_[31].mean(axis=0)"
   ]
  },
  {
   "cell_type": "markdown",
   "metadata": {},
   "source": [
    "**Print the best accuracy on cross-validation and corresponding value of `C`.**"
   ]
  },
  {
   "cell_type": "code",
   "execution_count": 65,
   "metadata": {},
   "outputs": [
    {
     "data": {
      "text/plain": [
       "(0.7607199894066068, 1.0)"
      ]
     },
     "execution_count": 65,
     "metadata": {},
     "output_type": "execute_result"
    }
   ],
   "source": [
    "''' YOUR CODE IS HERE '''\n",
    "logit_mean_cv_scores1.max(), logit_c_values1[logit_mean_cv_scores1.argmax()]"
   ]
  },
  {
   "cell_type": "markdown",
   "metadata": {},
   "source": [
    "**Plot Accuracy vs. `C` dependency graph on cross-validation.**"
   ]
  },
  {
   "cell_type": "code",
   "execution_count": 66,
   "metadata": {},
   "outputs": [
    {
     "data": {
      "image/png": "[encoded data removed]",
      "text/plain": [
       "<Figure size 432x288 with 1 Axes>"
      ]
     },
     "metadata": {},
     "output_type": "display_data"
    }
   ],
   "source": [
    "plt.plot(logit_c_values1, logit_mean_cv_scores1);"
   ]
  },
  {
   "cell_type": "markdown",
   "metadata": {},
   "source": [
    "**Now, do the same again but search `C` values in range `np.linspace`(0.1, 7, 20). Plot the validation curves and find the best accuracy on cross-validation.**"
   ]
  },
  {
   "cell_type": "code",
   "execution_count": 67,
   "metadata": {},
   "outputs": [
    {
     "name": "stdout",
     "output_type": "stream",
     "text": [
      "CPU times: user 1.31 s, sys: 278 ms, total: 1.59 s\n",
      "Wall time: 42 s\n"
     ]
    }
   ],
   "source": [
    "%%time\n",
    "logit_c_values2 = np.linspace(0.1, 7, 20)\n",
    "\n",
    "logit_grid_searcher2 = LogisticRegressionCV(Cs=logit_c_values2, multi_class=\"multinomial\", random_state=17, n_jobs=-1)\n",
    "logit_grid_searcher2.fit(X_train, y_train)"
   ]
  },
  {
   "cell_type": "markdown",
   "metadata": {},
   "source": [
    "**Mean accuracy during cross-validation for each of 10 `C` values.**"
   ]
  },
  {
   "cell_type": "code",
   "execution_count": 71,
   "metadata": {},
   "outputs": [
    {
     "data": {
      "text/plain": [
       "array([0.73684386, 0.75777342, 0.76102512, 0.76061824, 0.76011036,\n",
       "       0.76041564, 0.76082143, 0.76031379, 0.75878931, 0.75868762,\n",
       "       0.75817971, 0.7582818 , 0.75828198, 0.75757107, 0.75746919,\n",
       "       0.75696088, 0.75696088, 0.75645312, 0.75645284, 0.75594486])"
      ]
     },
     "execution_count": 71,
     "metadata": {},
     "output_type": "execute_result"
    }
   ],
   "source": [
    "logit_mean_cv_scores2 = logit_grid_searcher2.scores_[31].mean(axis=0)\n",
    "logit_mean_cv_scores2"
   ]
  },
  {
   "cell_type": "markdown",
   "metadata": {},
   "source": [
    "**Print the best accuracy on cross-validation and corresponding value of C.**"
   ]
  },
  {
   "cell_type": "code",
   "execution_count": 72,
   "metadata": {},
   "outputs": [
    {
     "data": {
      "text/plain": [
       "(0.7610251150973616, 0.8263157894736842)"
      ]
     },
     "execution_count": 72,
     "metadata": {},
     "output_type": "execute_result"
    }
   ],
   "source": [
    "logit_mean_cv_scores2.max(), logit_c_values2[logit_mean_cv_scores2.argmax()]"
   ]
  },
  {
   "cell_type": "markdown",
   "metadata": {},
   "source": [
    "**Plot Accuracy vs. `C` dependency graph on cross-validation.**"
   ]
  },
  {
   "cell_type": "code",
   "execution_count": 73,
   "metadata": {},
   "outputs": [
    {
     "data": {
      "image/png": "[encoded data removed]",
      "text/plain": [
       "<Figure size 432x288 with 1 Axes>"
      ]
     },
     "metadata": {},
     "output_type": "display_data"
    }
   ],
   "source": [
    "plt.plot(logit_c_values2, logit_mean_cv_scores2);"
   ]
  },
  {
   "cell_type": "markdown",
   "metadata": {},
   "source": [
    "**Print logistic regressoin's accuracy with the best `C` value on `(X_valid, y_valid)`.**"
   ]
  },
  {
   "cell_type": "code",
   "execution_count": 76,
   "metadata": {},
   "outputs": [],
   "source": [
    "logit_cv_acc = accuracy_score(y_valid, logit_grid_searcher2.predict(X_valid))"
   ]
  },
  {
   "cell_type": "markdown",
   "metadata": {},
   "source": [
    "**<font color='red'>Question 3. </font> Evaluate model's mean accuracy for `logit_grid_searcher2` on cross-validation using the best `C` and its accuracy on the validation dataset. Round your answers up to the third digit after a decimal point. Write your answers with a space between them.**"
   ]
  },
  {
   "cell_type": "code",
   "execution_count": 77,
   "metadata": {},
   "outputs": [
    {
     "data": {
      "text/plain": [
       "array([0.75159817, 0.77035682, 0.75320317])"
      ]
     },
     "execution_count": 77,
     "metadata": {},
     "output_type": "execute_result"
    }
   ],
   "source": [
    "''' YOUR CODE IS HERE '''\n",
    "cross_val_score(logit_grid_searcher2, X_train, y_train, cv=skf)"
   ]
  },
  {
   "cell_type": "code",
   "execution_count": 81,
   "metadata": {},
   "outputs": [
    {
     "data": {
      "text/plain": [
       "(0.758, 0.776)"
      ]
     },
     "execution_count": 81,
     "metadata": {},
     "output_type": "execute_result"
    }
   ],
   "source": [
    "round(np.array([0.75159817, 0.77035682, 0.75320317]).mean(), 3), round(logit_cv_acc, 3)"
   ]
  },
  {
   "cell_type": "markdown",
   "metadata": {},
   "source": [
    "**4. Train SVM (`LinearSVC`) with `C`=1 and `random_state`=17. Compare model's mean accuracy during cross-validation (don't forget to use `skf` object) and model's ccuracy on `(X_valid, y_valid)`.**"
   ]
  },
  {
   "cell_type": "code",
   "execution_count": 82,
   "metadata": {},
   "outputs": [],
   "source": [
    "from sklearn.svm import LinearSVC"
   ]
  },
  {
   "cell_type": "code",
   "execution_count": 83,
   "metadata": {},
   "outputs": [],
   "source": [
    "svm = LinearSVC(C=1, random_state=17)"
   ]
  },
  {
   "cell_type": "code",
   "execution_count": 85,
   "metadata": {},
   "outputs": [
    {
     "data": {
      "text/plain": [
       "0.7527977033131527"
      ]
     },
     "execution_count": 85,
     "metadata": {},
     "output_type": "execute_result"
    }
   ],
   "source": [
    "cross_val_score(svm, X_train, y_train, cv=skf).mean()"
   ]
  },
  {
   "cell_type": "code",
   "execution_count": 86,
   "metadata": {},
   "outputs": [
    {
     "data": {
      "text/plain": [
       "0.7769613652524295"
      ]
     },
     "execution_count": 86,
     "metadata": {},
     "output_type": "execute_result"
    }
   ],
   "source": [
    "svm.fit(X_train, y_train)\n",
    "accuracy_score(y_valid, svm.predict(X_valid))"
   ]
  },
  {
   "cell_type": "markdown",
   "metadata": {},
   "source": [
    "**Using `GridSearchCV` find optimal C value for SVM. Fisrt try wider range: 10 values from 1e-4 up to 1e2 using `linspace` from NumPy. Plot the validation curves.**"
   ]
  },
  {
   "cell_type": "code",
   "execution_count": 87,
   "metadata": {},
   "outputs": [
    {
     "name": "stdout",
     "output_type": "stream",
     "text": [
      "CPU times: user 3.65 s, sys: 129 ms, total: 3.78 s\n",
      "Wall time: 32.5 s\n"
     ]
    }
   ],
   "source": [
    "%%time\n",
    "svm_params1 = {'C': np.linspace(1e-4, 1e4, 10)}\n",
    "\n",
    "svm_grid_searcher1 = GridSearchCV(svm, param_grid=svm_params1, n_jobs=-1)\n",
    "svm_grid_searcher1.fit(X_train, y_train)"
   ]
  },
  {
   "cell_type": "markdown",
   "metadata": {},
   "source": [
    "**Print the best accuracy on cross-validation and corresponding value of `C`.**"
   ]
  },
  {
   "cell_type": "code",
   "execution_count": 89,
   "metadata": {},
   "outputs": [
    {
     "data": {
      "text/plain": [
       "({'C': 5555.555600000001}, 0.6886811623653729)"
      ]
     },
     "execution_count": 89,
     "metadata": {},
     "output_type": "execute_result"
    }
   ],
   "source": [
    "svm_grid_searcher1.best_params_, svm_grid_searcher1.best_score_"
   ]
  },
  {
   "cell_type": "markdown",
   "metadata": {},
   "source": [
    "**Plot Accuracy vs. C dependency graph on cross-validation.**"
   ]
  },
  {
   "cell_type": "code",
   "execution_count": 90,
   "metadata": {},
   "outputs": [
    {
     "data": {
      "image/png": "[encoded data removed]",
      "text/plain": [
       "<Figure size 432x288 with 1 Axes>"
      ]
     },
     "metadata": {},
     "output_type": "display_data"
    }
   ],
   "source": [
    "plot_validation_curves(svm_params1['C'], svm_grid_searcher1.cv_results_)"
   ]
  },
  {
   "cell_type": "markdown",
   "metadata": {},
   "source": [
    "**But we remember that using deafault regularization parameter (`C`=1) on cross-validation we get a higher accuracy. That's the case (not rare) of a possibility to make a mistake and searching parameters in a wrong range (the reason is that we took a uniform grid on a large scale and missed optimal interval of `C` values). It is more meaningful to search `C` near 1, in addition, model trains faster than with higher values of `C`.**\n",
    "\n",
    "**Using `GridSearchCV` find optimal `C` value for SVM in range(1e-3, 1), 30 values, use `linspace` from NumPy. Plt the validation curves.**"
   ]
  },
  {
   "cell_type": "code",
   "execution_count": 91,
   "metadata": {},
   "outputs": [
    {
     "name": "stdout",
     "output_type": "stream",
     "text": [
      "CPU times: user 965 ms, sys: 157 ms, total: 1.12 s\n",
      "Wall time: 1min 5s\n"
     ]
    }
   ],
   "source": [
    "%%time\n",
    "svm_params2 = {'C': np.linspace(1e-3, 1, 30)}\n",
    "\n",
    "svm_grid_searcher2 = GridSearchCV(svm, param_grid=svm_params2, n_jobs=-1)\n",
    "svm_grid_searcher2.fit(X_train, y_train)"
   ]
  },
  {
   "cell_type": "markdown",
   "metadata": {},
   "source": [
    "**Print the best accuracy on cross-validation and corresponding value of `C`.**"
   ]
  },
  {
   "cell_type": "code",
   "execution_count": 93,
   "metadata": {},
   "outputs": [
    {
     "data": {
      "text/plain": [
       "({'C': 0.13879310344827586}, 0.7661044503149766)"
      ]
     },
     "execution_count": 93,
     "metadata": {},
     "output_type": "execute_result"
    }
   ],
   "source": [
    "svm_grid_searcher2.best_params_, svm_grid_searcher2.best_score_"
   ]
  },
  {
   "cell_type": "markdown",
   "metadata": {},
   "source": [
    "**Plot Accuracy vs. C dependency graph on cross-validation.**"
   ]
  },
  {
   "cell_type": "code",
   "execution_count": 94,
   "metadata": {},
   "outputs": [
    {
     "data": {
      "image/png": "[encoded data removed]",
      "text/plain": [
       "<Figure size 432x288 with 1 Axes>"
      ]
     },
     "metadata": {},
     "output_type": "display_data"
    }
   ],
   "source": [
    "plot_validation_curves(svm_params2['C'], svm_grid_searcher2.cv_results_)"
   ]
  },
  {
   "cell_type": "markdown",
   "metadata": {},
   "source": [
    "**Print `LinearSVC`'s accuracy with the best `C` value on (X_valid, y_valid).**"
   ]
  },
  {
   "cell_type": "code",
   "execution_count": 95,
   "metadata": {},
   "outputs": [],
   "source": [
    "svm_cv_acc = accuracy_score(y_valid, svm_grid_searcher2.best_estimator_.predict(X_valid))"
   ]
  },
  {
   "cell_type": "code",
   "execution_count": 97,
   "metadata": {},
   "outputs": [
    {
     "data": {
      "text/plain": [
       "0.782"
      ]
     },
     "execution_count": 97,
     "metadata": {},
     "output_type": "execute_result"
    }
   ],
   "source": [
    "round(svm_cv_acc, 3)"
   ]
  },
  {
   "cell_type": "markdown",
   "metadata": {},
   "source": [
    "**<font color='red'>Question 4. </font> Evaluate model's mean accuracy for `svm_grid_searcher2` on cross-validation using the best `C` and its accuracy on the validation dataset. Round your answers up to the third digit after a decimal point. Write your answers with a space between them.**"
   ]
  },
  {
   "cell_type": "code",
   "execution_count": 98,
   "metadata": {},
   "outputs": [
    {
     "data": {
      "text/plain": [
       "0.763"
      ]
     },
     "execution_count": 98,
     "metadata": {},
     "output_type": "execute_result"
    }
   ],
   "source": [
    "round(cross_val_score(svm_grid_searcher2.best_estimator_, X_train, y_train, cv=skf).mean(), 3)"
   ]
  },
  {
   "cell_type": "markdown",
   "metadata": {},
   "source": [
    "## Part 2. Parameter tuning – session_length and window_size"
   ]
  },
  {
   "cell_type": "markdown",
   "metadata": {},
   "source": [
    "**Let's take `LinearSVC` since it performed best on cross-validation in part 1 and check its performance on 8 datasets of 10 users (with different combiantions of `session_length` and `window_size`). Since there are much more computations, we will not search regularization parameter `C` each time.**\n",
    "\n",
    "**Write the `model_assessment` function with the specification provided below. Pay your attention to all details, e.g. `train_test_split` should be stratified. Don't forget `random_state` anywhere.**"
   ]
  },
  {
   "cell_type": "code",
   "execution_count": 100,
   "metadata": {},
   "outputs": [],
   "source": [
    "from copy import copy"
   ]
  },
  {
   "cell_type": "code",
   "execution_count": 101,
   "metadata": {},
   "outputs": [],
   "source": [
    "def load_obj(path_to_pickle):\n",
    "    with open(path_to_pickle, \"rb\") as pickle_file:\n",
    "        object_ = pickle.load(pickle_file)\n",
    "        \n",
    "    return object_"
   ]
  },
  {
   "cell_type": "code",
   "execution_count": 139,
   "metadata": {},
   "outputs": [],
   "source": [
    "def model_assessment(estimator, path_to_X_pickle, path_to_y_pickle, cv, random_state=17, test_size=0.3):\n",
    "    '''\n",
    "    Estimates CV-accuracy for (1 - test_size) share of (X_sparse, y) \n",
    "    loaded from path_to_X_pickle and path_to_y_pickle and holdout accuracy for (test_size) share of (X_sparse, y).\n",
    "    The split is made with stratified train_test_split with params random_state and test_size.\n",
    "    \n",
    "    :param estimator – Scikit-learn estimator (classifier or regressor)\n",
    "    :param path_to_X_pickle – path to pickled sparse X (instances and their features)\n",
    "    :param path_to_y_pickle – path to pickled y (responses)\n",
    "    :param cv – cross-validation as in cross_val_score (use StratifiedKFold here)\n",
    "    :param random_state –  for train_test_split\n",
    "    :param test_size –  for train_test_split\n",
    "    \n",
    "    :returns mean CV-accuracy for (X_train, y_train) and accuracy for (X_valid, y_valid) where (X_train, y_train)\n",
    "    and (X_valid, y_valid) are (1 - test_size) and (testsize) shares of (X_sparse, y).\n",
    "    '''\n",
    "    estimator_safe = copy(estimator)\n",
    "    X = load_obj(path_to_X_pickle)\n",
    "    y = load_obj(path_to_y_pickle)\n",
    "    \n",
    "    X_train, X_valid, y_train, y_valid = train_test_split(X, y, test_size=test_size, \n",
    "                                                          random_state=random_state, stratify=y)\n",
    "    mean_cross_val = cross_val_score(estimator_safe, X_train, y_train, cv=cv).mean()\n",
    "    print(\"cross_val: \", mean_cross_val)\n",
    "    estimator_safe.fit(X_train, y_train)\n",
    "    \n",
    "    return mean_cross_val, accuracy_score(y_valid, estimator_safe.predict(X_valid))"
   ]
  },
  {
   "cell_type": "markdown",
   "metadata": {},
   "source": [
    "**Double-check that the function is working.**"
   ]
  },
  {
   "cell_type": "code",
   "execution_count": 104,
   "metadata": {},
   "outputs": [
    {
     "data": {
      "text/plain": [
       "(0.7633649590115557, 0.7817018250770325)"
      ]
     },
     "execution_count": 104,
     "metadata": {},
     "output_type": "execute_result"
    }
   ],
   "source": [
    "model_assessment(svm_grid_searcher2.best_estimator_, \n",
    "                 os.path.join(PATH_TO_DATA, 'X_sparse_10users.pkl'),\n",
    "        os.path.join(PATH_TO_DATA, 'y_10users.pkl'), skf, random_state=17, test_size=0.3)"
   ]
  },
  {
   "cell_type": "markdown",
   "metadata": {},
   "source": [
    "**Apply `model_assessment` function for the best algorithm from the previous part (namely, `svm_grid_searcher2.best_estimator_`) and 9 datasets with different combinations of `session_length` and `window_size` of 10 users. Print `session_length` and `window_size` parameters in the loop as well as an output of the `model_assessment` function.\n",
    "It's handy if the `model_assessment` function returns execution time as a third output argument. It took 20 sec to execute this code snippet on my laptop. But with 150 users dataset, each iteration takes a couple of minutes.**"
   ]
  },
  {
   "cell_type": "markdown",
   "metadata": {},
   "source": [
    "Here, for the convinience it worth to create copies of pickle-files `X_sparse_10users.pkl`, `X_sparse_150users.pkl`, `y_10users.pkl` and `y_150users.pkl` adding `s10_w10` to their names, which means session length of 10 and window width of 10."
   ]
  },
  {
   "cell_type": "code",
   "execution_count": 116,
   "metadata": {},
   "outputs": [
    {
     "name": "stdout",
     "output_type": "stream",
     "text": [
      "\u001b[30m\u001b[43m10users\u001b[m\u001b[m                       site_freq_10users.pkl\r\n",
      "\u001b[30m\u001b[43m150users\u001b[m\u001b[m                      site_freq_150users.pkl\r\n",
      "\u001b[30m\u001b[43m3users\u001b[m\u001b[m                        site_freq_3users.pkl\r\n",
      "X_sparse_10users.pkl          train_data_10users.csv\r\n",
      "X_sparse_10users_s10_w10.pkl  train_data_150users.csv\r\n",
      "X_sparse_10users_s10w10.pkl   y_10users.pkl\r\n",
      "X_sparse_10users_s10w5.pkl    y_10users_s10_w10.pkl\r\n",
      "X_sparse_10users_s10w7.pkl    y_10users_s10w10.pkl\r\n",
      "X_sparse_10users_s15w10.pkl   y_10users_s10w5.pkl\r\n",
      "X_sparse_10users_s15w5.pkl    y_10users_s10w7.pkl\r\n",
      "X_sparse_10users_s15w7.pkl    y_10users_s15w10.pkl\r\n",
      "X_sparse_10users_s5w5.pkl     y_10users_s15w5.pkl\r\n",
      "X_sparse_10users_s7w5.pkl     y_10users_s15w7.pkl\r\n",
      "X_sparse_10users_s7w7.pkl     y_10users_s5w5.pkl\r\n",
      "X_sparse_150users.pkl         y_10users_s7w5.pkl\r\n",
      "X_sparse_150users_s10_w10.pkl y_10users_s7w7.pkl\r\n",
      "X_sparse_150users_s10w10.pkl  y_150users.pkl\r\n",
      "X_sparse_150users_s10w5.pkl   y_150users_s10_w10.pkl\r\n",
      "X_sparse_150users_s10w7.pkl   y_150users_s10w10.pkl\r",
      "\r\n",
      "X_sparse_150users_s15w10.pkl  y_150users_s10w5.pkl\r\n",
      "X_sparse_150users_s15w5.pkl   y_150users_s10w7.pkl\r\n",
      "X_sparse_150users_s15w7.pkl   y_150users_s15w10.pkl\r\n",
      "X_sparse_150users_s5w5.pkl    y_150users_s15w5.pkl\r\n",
      "X_sparse_150users_s7w5.pkl    y_150users_s15w7.pkl\r\n",
      "X_sparse_150users_s7w7.pkl    y_150users_s5w5.pkl\r\n",
      "new_features_10users.pkl      y_150users_s7w5.pkl\r\n",
      "new_features_150users.pkl     y_150users_s7w7.pkl\r\n"
     ]
    }
   ],
   "source": [
    "!ls $PATH_TO_DATA/"
   ]
  },
  {
   "cell_type": "code",
   "execution_count": 111,
   "metadata": {},
   "outputs": [],
   "source": [
    "# Won't work on non-Linux based Machines (Basically it's creating copies of the files)\n",
    "!cp $PATH_TO_DATA/X_sparse_10users.pkl $PATH_TO_DATA/X_sparse_10users_s10w10.pkl \n",
    "!cp $PATH_TO_DATA/X_sparse_150users.pkl $PATH_TO_DATA/X_sparse_150users_s10w10.pkl \n",
    "!cp $PATH_TO_DATA/y_10users.pkl $PATH_TO_DATA/y_10users_s10w10.pkl \n",
    "!cp $PATH_TO_DATA/y_150users.pkl $PATH_TO_DATA/y_150users_s10w10.pkl "
   ]
  },
  {
   "cell_type": "code",
   "execution_count": 117,
   "metadata": {},
   "outputs": [
    {
     "name": "stdout",
     "output_type": "stream",
     "text": [
      "window_size: 10, session_length: 15 (0.8217896546706148, 0.8307655842616734)\n",
      "window_size: 10, session_length: 10 (0.7633649590115557, 0.7817018250770325)\n",
      "window_size: 7, session_length: 15 (0.8470874683536852, 0.863447818151651)\n",
      "window_size: 7, session_length: 10 (0.7975853695418165, 0.8324207731873237)\n",
      "window_size: 7, session_length: 7 (0.7544123057721982, 0.7975775676124108)\n",
      "window_size: 5, session_length: 15 (0.8689670755674888, 0.8691322901849218)\n",
      "window_size: 5, session_length: 10 (0.8179570941042811, 0.8398530109056425)\n",
      "window_size: 5, session_length: 7 (0.7753290851849481, 0.8027501185395922)\n",
      "window_size: 5, session_length: 5 (0.7267058295650503, 0.7607871028923661)\n",
      "CPU times: user 26.1 s, sys: 424 ms, total: 26.6 s\n",
      "Wall time: 29.4 s\n"
     ]
    }
   ],
   "source": [
    "%%time\n",
    "estimator = svm_grid_searcher2.best_estimator_\n",
    "\n",
    "for window_size, session_length in itertools.product([10, 7, 5], [15, 10, 7, 5]):\n",
    "    if window_size <= session_length:\n",
    "        path_to_X_pkl = os.path.join(PATH_TO_DATA, f\"X_sparse_10users_s{session_length}w{window_size}.pkl\")\n",
    "        path_to_y_pkl = os.path.join(PATH_TO_DATA, f\"y_10users_s{session_length}w{window_size}.pkl\")\n",
    "         \n",
    "        print(f\"window_size: {window_size}, session_length: {session_length}\", \n",
    "              model_assessment(estimator, path_to_X_pkl, path_to_y_pkl, skf, random_state=17, test_size=0.3))"
   ]
  },
  {
   "cell_type": "markdown",
   "metadata": {},
   "source": [
    "**<font color='red'>Question 5. </font> Evaluate `LinearSVC`'s accuracy  with optimal `C` on `X_sparse_10users_s15_w5` dataset. Write model's mean accuracy on cross-validation and its accuracy on validation dataset. Round your answers up to the third digit after a decimal point. Write your answers with a space between them.**"
   ]
  },
  {
   "cell_type": "code",
   "execution_count": 120,
   "metadata": {},
   "outputs": [
    {
     "data": {
      "text/plain": [
       "(0.8689670755674888, 0.8691322901849218)"
      ]
     },
     "execution_count": 120,
     "metadata": {},
     "output_type": "execute_result"
    }
   ],
   "source": [
    "model_assessment(estimator, \n",
    "                 os.path.join(PATH_TO_DATA, f\"X_sparse_10users_s15w5.pkl\"), \n",
    "                 os.path.join(PATH_TO_DATA, f\"y_10users_s15w5.pkl\"),\n",
    "                 skf, random_state=17, test_size=0.3)"
   ]
  },
  {
   "cell_type": "code",
   "execution_count": 121,
   "metadata": {},
   "outputs": [
    {
     "data": {
      "text/plain": [
       "(0.869, 0.869)"
      ]
     },
     "execution_count": 121,
     "metadata": {},
     "output_type": "execute_result"
    }
   ],
   "source": [
    "round(0.8689670755674888, 3), round(0.8691322901849218, 3)"
   ]
  },
  {
   "cell_type": "markdown",
   "metadata": {},
   "source": [
    "**Comment on the results. Compare mean accuracy on cross-validation and on validation dataset using the following combinations of parameters(`session_length, window_size`): (5,5), (7,7) и (10,10). On average laptop it could take up to an hour. After all, it's data science :)**.\n",
    "\n",
    "**Make a conclusion about how accuracy depends on session length and window width.**"
   ]
  },
  {
   "cell_type": "code",
   "execution_count": 122,
   "metadata": {},
   "outputs": [],
   "source": [
    "from tqdm import tqdm_notebook"
   ]
  },
  {
   "cell_type": "code",
   "execution_count": 126,
   "metadata": {},
   "outputs": [
    {
     "data": {
      "text/plain": [
       "<273957x27797 sparse matrix of type '<class 'numpy.int64'>'\n",
       "\twith 1369510 stored elements in Compressed Sparse Row format>"
      ]
     },
     "execution_count": 126,
     "metadata": {},
     "output_type": "execute_result"
    }
   ],
   "source": [
    "load_obj(os.path.join(PATH_TO_DATA, f\"X_sparse_150users_s{session_length}w{window_size}.pkl\"))"
   ]
  },
  {
   "cell_type": "code",
   "execution_count": 140,
   "metadata": {},
   "outputs": [
    {
     "data": {
      "application/vnd.jupyter.widget-view+json": {
       "model_id": "a8188cc05c8e4f2d8d2ea804f5bf62da",
       "version_major": 2,
       "version_minor": 0
      },
      "text/plain": [
       "HBox(children=(IntProgress(value=0, max=3), HTML(value='')))"
      ]
     },
     "metadata": {},
     "output_type": "display_data"
    },
    {
     "name": "stdout",
     "output_type": "stream",
     "text": [
      "cross_val:  0.409666167729474\n",
      "window_size: 5, session_length: 5 (0.409666167729474, 0.42267727648805176)\n",
      "cross_val:  0.43686797191901516\n",
      "window_size: 7, session_length: 7 (0.43686797191901516, 0.45415062847021154)\n",
      "cross_val:  0.46131133117144474\n",
      "window_size: 10, session_length: 10 (0.46131133117144474, 0.48447915146207365)\n",
      "CPU times: user 23min 48s, sys: 16.2 s, total: 24min 5s\n",
      "Wall time: 25min 51s\n"
     ]
    }
   ],
   "source": [
    "%%time\n",
    "estimator = LinearSVC(random_state=17).set_params(**svm_grid_searcher2.best_params_)\n",
    "\n",
    "for window_size, session_length in tqdm_notebook([(5,5), (7,7), (10,10)]):\n",
    "    path_to_X_pkl = os.path.join(PATH_TO_DATA, f\"X_sparse_150users_s{session_length}w{window_size}.pkl\")\n",
    "    path_to_y_pkl = os.path.join(PATH_TO_DATA, f\"y_150users_s{session_length}w{window_size}.pkl\")\n",
    "    \n",
    "    print(f\"window_size: {window_size}, session_length: {session_length}\", \n",
    "          model_assessment(estimator, path_to_X_pkl, path_to_y_pkl, skf, random_state=17, test_size=0.3))"
   ]
  },
  {
   "cell_type": "markdown",
   "metadata": {},
   "source": [
    "**<font color='red'>Question 6. </font> Evaluate `LinearSVC`'s accuracy with optimal `C` value on `X_sparse_150users`. Write model's accuracy on cross-validation and on the validation dataset. Round your answers up to the third digit after a decimal point. Write your answers with a space between them.**"
   ]
  },
  {
   "cell_type": "code",
   "execution_count": 141,
   "metadata": {},
   "outputs": [
    {
     "data": {
      "text/plain": [
       "' YOUR CODE IS HERE '"
      ]
     },
     "execution_count": 141,
     "metadata": {},
     "output_type": "execute_result"
    }
   ],
   "source": [
    "''' YOUR CODE IS HERE '''\n",
    "# window_size: 10, session_length: 10 (0.46131133117144474, 0.48447915146207365)"
   ]
  },
  {
   "cell_type": "markdown",
   "metadata": {},
   "source": [
    "## Part 3. Particular user identification and learning curves"
   ]
  },
  {
   "cell_type": "markdown",
   "metadata": {},
   "source": [
    "**Since it may dissapoint that accuracy at multiclass classification problem on 150 users dataset is low, let's joy the fact that some particular user could be identified quite well.**"
   ]
  },
  {
   "cell_type": "markdown",
   "metadata": {},
   "source": [
    "**Load `X_sparse_150users` and `y_150users` objects serialized earlier which correspond to 150 users dataset with parameters (*session_length, window_size*) = (10,10). Split them into two parts: 70% train data and 30% validation data.**"
   ]
  },
  {
   "cell_type": "code",
   "execution_count": 142,
   "metadata": {},
   "outputs": [],
   "source": [
    "with open(os.path.join(PATH_TO_DATA, 'X_sparse_150users.pkl'), 'rb') as X_sparse_150users_pkl:\n",
    "     X_sparse_150users = pickle.load(X_sparse_150users_pkl)\n",
    "with open(os.path.join(PATH_TO_DATA, 'y_150users.pkl'), 'rb') as y_150users_pkl:\n",
    "    y_150users = pickle.load(y_150users_pkl)"
   ]
  },
  {
   "cell_type": "code",
   "execution_count": 143,
   "metadata": {},
   "outputs": [],
   "source": [
    "X_train_150, X_valid_150, y_train_150, y_valid_150 = train_test_split(X_sparse_150users, \n",
    "                                                                      y_150users, test_size=0.3, \n",
    "                                                     random_state=17, stratify=y_150users)"
   ]
  },
  {
   "cell_type": "markdown",
   "metadata": {},
   "source": [
    "**Train `LogisticRegressionCV` with single `C` value (take the best `C` value on cross-validation in part 1, use an accurate value, not an approximate one). Now we are going to solve 150 tasks One-vs-All, hence set `multi_class`='ovr'. As usual, set `n_jobs=-1` and `random_state`=17 where it is possible (this training might take up to 20 min).**"
   ]
  },
  {
   "cell_type": "code",
   "execution_count": 145,
   "metadata": {},
   "outputs": [
    {
     "name": "stdout",
     "output_type": "stream",
     "text": [
      "CPU times: user 2min 20s, sys: 3.18 s, total: 2min 23s\n",
      "Wall time: 5min 45s\n"
     ]
    }
   ],
   "source": [
    "%%time\n",
    "logit_cv_150users = LogisticRegressionCV(Cs=[0.8263157894736842], multi_class=\"ovr\", random_state=17, n_jobs=-1)\n",
    "logit_cv_150users.fit(X_train_150, y_train_150)"
   ]
  },
  {
   "cell_type": "code",
   "execution_count": 147,
   "metadata": {},
   "outputs": [
    {
     "data": {
      "text/plain": [
       "{6: array([[0.99606545],\n",
       "        [0.99602703],\n",
       "        [0.99548915]]), 13: array([[0.99615913],\n",
       "        [0.99637114],\n",
       "        [0.99636626]]), 15: array([[0.99519111],\n",
       "        [0.99508853],\n",
       "        [0.99536384]]), 16: array([[0.99184986],\n",
       "        [0.99111556],\n",
       "        [0.99245058]]), 28: array([[0.99028853],\n",
       "        [0.99014578],\n",
       "        [0.98994455]]), 31: array([[0.9944729 ],\n",
       "        [0.994588  ],\n",
       "        [0.99442408]]), 33: array([[0.99359855],\n",
       "        [0.99368079],\n",
       "        [0.9937036 ]]), 39: array([[0.98616663],\n",
       "        [0.98607896],\n",
       "        [0.98590358]]), 46: array([[0.99815763],\n",
       "        [0.99806044],\n",
       "        [0.99805783]]), 49: array([[0.99487884],\n",
       "        [0.9949634 ],\n",
       "        [0.99539517]]), 50: array([[0.99434799],\n",
       "        [0.99430645],\n",
       "        [0.99473734]]), 53: array([[0.99344242],\n",
       "        [0.9938372 ],\n",
       "        [0.99386023]]), 65: array([[0.99681489],\n",
       "        [0.99696553],\n",
       "        [0.99696144]]), 66: array([[0.99494129],\n",
       "        [0.99480698],\n",
       "        [0.99505059]]), 82: array([[0.99644017],\n",
       "        [0.99640243],\n",
       "        [0.99627228]]), 85: array([[0.99606545],\n",
       "        [0.99643371],\n",
       "        [0.99642891]]), 89: array([[0.99081939],\n",
       "        [0.99017706],\n",
       "        [0.99088432]]), 92: array([[0.99450412],\n",
       "        [0.9942126 ],\n",
       "        [0.99445541]]), 100: array([[0.99472271],\n",
       "        [0.99471313],\n",
       "        [0.99473734]]), 102: array([[0.9911941 ],\n",
       "        [0.99114684],\n",
       "        [0.99138552]]), 103: array([[0.9801399 ],\n",
       "        [0.98076081],\n",
       "        [0.98060959]]), 105: array([[0.99681489],\n",
       "        [0.99684039],\n",
       "        [0.99702409]]), 106: array([[0.99515988],\n",
       "        [0.99449415],\n",
       "        [0.99423613]]), 118: array([[0.99072571],\n",
       "        [0.99074016],\n",
       "        [0.99088432]]), 119: array([[0.9965963 ],\n",
       "        [0.99637114],\n",
       "        [0.99680481]]), 120: array([[0.99416063],\n",
       "        [0.99436902],\n",
       "        [0.99426746]]), 126: array([[0.99497252],\n",
       "        [0.99505725],\n",
       "        [0.99505059]]), 127: array([[0.99222458],\n",
       "        [0.99092786],\n",
       "        [0.99035178]]), 128: array([[0.98438671],\n",
       "        [0.98517174],\n",
       "        [0.98430599]]), 138: array([[0.99728329],\n",
       "        [0.99737221],\n",
       "        [0.99705541]]), 158: array([[0.99703347],\n",
       "        [0.99705938],\n",
       "        [0.99718072]]), 160: array([[0.99678366],\n",
       "        [0.99693424],\n",
       "        [0.99677349]]), 165: array([[0.99731451],\n",
       "        [0.99715323],\n",
       "        [0.9975253 ]]), 172: array([[0.99640894],\n",
       "        [0.99671526],\n",
       "        [0.99661686]]), 177: array([[0.9969398 ],\n",
       "        [0.99659013],\n",
       "        [0.99708674]]), 203: array([[0.99765801],\n",
       "        [0.99721579],\n",
       "        [0.99727469]]), 207: array([[0.98735324],\n",
       "        [0.9880498 ],\n",
       "        [0.98743852]]), 223: array([[0.99662753],\n",
       "        [0.99649628],\n",
       "        [0.99646023]]), 233: array([[0.99631526],\n",
       "        [0.99624601],\n",
       "        [0.99627228]]), 235: array([[0.99672121],\n",
       "        [0.99668398],\n",
       "        [0.99671084]]), 236: array([[0.9901324 ],\n",
       "        [0.9901145 ],\n",
       "        [0.99038311]]), 237: array([[0.98957032],\n",
       "        [0.98901958],\n",
       "        [0.98922407]]), 238: array([[0.99628404],\n",
       "        [0.99621473],\n",
       "        [0.99620963]]), 240: array([[0.99581564],\n",
       "        [0.99583933],\n",
       "        [0.99586505]]), 241: array([[0.99594054],\n",
       "        [0.99615216],\n",
       "        [0.99608433]]), 242: array([[0.99503497],\n",
       "        [0.9949634 ],\n",
       "        [0.99508192]]), 245: array([[0.99609668],\n",
       "        [0.99637114],\n",
       "        [0.9959277 ]]), 246: array([[0.99712715],\n",
       "        [0.99709066],\n",
       "        [0.99693011]]), 249: array([[0.99515988],\n",
       "        [0.99527623],\n",
       "        [0.99517589]]), 252: array([[0.99650262],\n",
       "        [0.99633986],\n",
       "        [0.99655421]]), 254: array([[0.99203722],\n",
       "        [0.99177251],\n",
       "        [0.99188673]]), 256: array([[0.99603422],\n",
       "        [0.99599575],\n",
       "        [0.99614698]]), 258: array([[0.996003  ],\n",
       "        [0.99568291],\n",
       "        [0.9958024 ]]), 259: array([[0.9950662 ],\n",
       "        [0.9949634 ],\n",
       "        [0.99505059]]), 260: array([[0.99725206],\n",
       "        [0.99718451],\n",
       "        [0.99739999]]), 261: array([[0.98947664],\n",
       "        [0.98967653],\n",
       "        [0.9897566 ]]), 263: array([[0.99294279],\n",
       "        [0.99264844],\n",
       "        [0.99266986]]), 264: array([[0.99668998],\n",
       "        [0.99659013],\n",
       "        [0.99661686]]), 269: array([[0.98700974],\n",
       "        [0.98711131],\n",
       "        [0.98693732]]), 270: array([[0.98903947],\n",
       "        [0.98892573],\n",
       "        [0.98966263]]), 273: array([[0.99450412],\n",
       "        [0.99427517],\n",
       "        [0.99442408]]), 287: array([[0.99069448],\n",
       "        [0.99067759],\n",
       "        [0.98991323]]), 294: array([[0.996003  ],\n",
       "        [0.99574548],\n",
       "        [0.9958024 ]]), 298: array([[0.99088184],\n",
       "        [0.99114684],\n",
       "        [0.9913542 ]]), 301: array([[0.99734574],\n",
       "        [0.99705938],\n",
       "        [0.99718072]]), 308: array([[0.9955346 ],\n",
       "        [0.99565163],\n",
       "        [0.99583372]]), 315: array([[0.99743942],\n",
       "        [0.99765376],\n",
       "        [0.99755662]]), 318: array([[0.99594054],\n",
       "        [0.99565163],\n",
       "        [0.99611565]]), 327: array([[0.99672121],\n",
       "        [0.99649628],\n",
       "        [0.99661686]]), 332: array([[0.99665876],\n",
       "        [0.99684039],\n",
       "        [0.99671084]]), 333: array([[0.99637772],\n",
       "        [0.99599575],\n",
       "        [0.996053  ]]), 339: array([[0.99712715],\n",
       "        [0.99684039],\n",
       "        [0.99705541]]), 340: array([[0.99653385],\n",
       "        [0.99684039],\n",
       "        [0.99664818]]), 342: array([[0.99219335],\n",
       "        [0.99217919],\n",
       "        [0.99232528]]), 344: array([[0.99678366],\n",
       "        [0.99680911],\n",
       "        [0.99674216]]), 351: array([[0.99234949],\n",
       "        [0.99258587],\n",
       "        [0.99223131]]), 356: array([[0.99772046],\n",
       "        [0.99765376],\n",
       "        [0.99758795]]), 361: array([[0.99640894],\n",
       "        [0.99659013],\n",
       "        [0.99652288]]), 363: array([[0.99662753],\n",
       "        [0.99633986],\n",
       "        [0.99627228]]), 411: array([[0.99147514],\n",
       "        [0.99095914],\n",
       "        [0.99069636]]), 417: array([[0.99668998],\n",
       "        [0.99687168],\n",
       "        [0.99680481]]), 425: array([[0.99431676],\n",
       "        [0.9942126 ],\n",
       "        [0.99417348]]), 430: array([[0.9961279 ],\n",
       "        [0.99612088],\n",
       "        [0.99627228]]), 435: array([[0.99700225],\n",
       "        [0.99705938],\n",
       "        [0.99705541]]), 436: array([[0.99531601],\n",
       "        [0.99511981],\n",
       "        [0.99526987]]), 440: array([[0.9970647 ],\n",
       "        [0.99696553],\n",
       "        [0.99705541]]), 444: array([[0.99772046],\n",
       "        [0.99784146],\n",
       "        [0.99755662]]), 475: array([[0.9891956 ],\n",
       "        [0.9893637 ],\n",
       "        [0.98934937]]), 476: array([[0.99678366],\n",
       "        [0.99684039],\n",
       "        [0.99696144]]), 486: array([[0.99544092],\n",
       "        [0.99524495],\n",
       "        [0.99539517]]), 515: array([[0.99422308],\n",
       "        [0.99430645],\n",
       "        [0.99401685]]), 533: array([[0.99381714],\n",
       "        [0.9934618 ],\n",
       "        [0.99379758]]), 561: array([[0.98488634],\n",
       "        [0.98457736],\n",
       "        [0.98424334]]), 563: array([[0.99687734],\n",
       "        [0.99680911],\n",
       "        [0.99683614]]), 564: array([[0.99562828],\n",
       "        [0.99562035],\n",
       "        [0.99552047]]), 568: array([[0.99184986],\n",
       "        [0.99167866],\n",
       "        [0.99216866]]), 569: array([[0.98863352],\n",
       "        [0.9899268 ],\n",
       "        [0.98944335]]), 570: array([[0.99822008],\n",
       "        [0.99840455],\n",
       "        [0.99833976]]), 573: array([[0.99113165],\n",
       "        [0.99077144],\n",
       "        [0.99053974]]), 575: array([[0.99000749],\n",
       "        [0.98986423],\n",
       "        [0.99019516]]), 576: array([[0.99419186],\n",
       "        [0.99433773],\n",
       "        [0.99429878]]), 580: array([[0.98632276],\n",
       "        [0.98708002],\n",
       "        [0.98640479]]), 583: array([[0.98098301],\n",
       "        [0.98076081],\n",
       "        [0.98051562]]), 584: array([[0.98148264],\n",
       "        [0.98119877],\n",
       "        [0.98104815]]), 600: array([[0.99110042],\n",
       "        [0.99183507],\n",
       "        [0.99154215]]), 603: array([[0.99590932],\n",
       "        [0.99546393],\n",
       "        [0.99564577]]), 605: array([[0.99747065],\n",
       "        [0.99730964],\n",
       "        [0.99736867]]), 640: array([[0.99715838],\n",
       "        [0.99727836],\n",
       "        [0.99727469]]), 647: array([[0.99731451],\n",
       "        [0.99765376],\n",
       "        [0.99771325]]), 653: array([[0.99731451],\n",
       "        [0.99740349],\n",
       "        [0.99724337]]), 664: array([[0.99547215],\n",
       "        [0.99527623],\n",
       "        [0.99523854]]), 665: array([[0.99715838],\n",
       "        [0.99684039],\n",
       "        [0.99721204]]), 677: array([[0.9965963 ],\n",
       "        [0.99655884],\n",
       "        [0.99674216]]), 692: array([[0.9970647 ],\n",
       "        [0.99690296],\n",
       "        [0.99705541]]), 697: array([[0.9961279 ],\n",
       "        [0.99596446],\n",
       "        [0.99552047]]), 705: array([[0.99634649],\n",
       "        [0.99665269],\n",
       "        [0.99649156]]), 722: array([[0.99466025],\n",
       "        [0.99468185],\n",
       "        [0.99464336]]), 740: array([[0.99622158],\n",
       "        [0.99671526],\n",
       "        [0.99696144]]), 741: array([[0.99675244],\n",
       "        [0.99684039],\n",
       "        [0.99696144]]), 756: array([[0.99575319],\n",
       "        [0.99543265],\n",
       "        [0.9956771 ]]), 780: array([[0.99640894],\n",
       "        [0.99637114],\n",
       "        [0.99630361]]), 784: array([[0.99678366],\n",
       "        [0.99659013],\n",
       "        [0.99661686]]), 785: array([[0.99712715],\n",
       "        [0.99715323],\n",
       "        [0.99708674]]), 797: array([[0.99581564],\n",
       "        [0.99568291],\n",
       "        [0.99577107]]), 812: array([[0.99478516],\n",
       "        [0.994588  ],\n",
       "        [0.99489396]]), 844: array([[0.99678366],\n",
       "        [0.99680911],\n",
       "        [0.99705541]]), 859: array([[0.99837622],\n",
       "        [0.99802916],\n",
       "        [0.99793253]]), 868: array([[0.99665876],\n",
       "        [0.99655884],\n",
       "        [0.99677349]]), 875: array([[0.99565951],\n",
       "        [0.99568291],\n",
       "        [0.99517589]]), 932: array([[0.99063203],\n",
       "        [0.99055246],\n",
       "        [0.98985058]]), 996: array([[0.99309893],\n",
       "        [0.99267972],\n",
       "        [0.99351565]]), 1014: array([[0.99709593],\n",
       "        [0.99699681],\n",
       "        [0.99705541]]), 1040: array([[0.99690857],\n",
       "        [0.99680911],\n",
       "        [0.99711807]]), 1054: array([[0.99653385],\n",
       "        [0.9960896 ],\n",
       "        [0.99696144]]), 1248: array([[0.99756433],\n",
       "        [0.99787274],\n",
       "        [0.9977759 ]]), 1267: array([[0.99731451],\n",
       "        [0.99743477],\n",
       "        [0.99736867]]), 1299: array([[0.99718961],\n",
       "        [0.99693424],\n",
       "        [0.99702409]]), 1371: array([[0.99322383],\n",
       "        [0.9934618 ],\n",
       "        [0.99342167]]), 1797: array([[0.99444167],\n",
       "        [0.9949634 ],\n",
       "        [0.99464336]]), 1798: array([[0.99628404],\n",
       "        [0.99621473],\n",
       "        [0.99658553]]), 1993: array([[0.99690857],\n",
       "        [0.99690296],\n",
       "        [0.99652288]]), 2118: array([[0.99765801],\n",
       "        [0.99765376],\n",
       "        [0.9977759 ]]), 2174: array([[0.99537847],\n",
       "        [0.99546393],\n",
       "        [0.99577107]]), 2191: array([[0.99531601],\n",
       "        [0.99524495],\n",
       "        [0.99511324]]), 2250: array([[0.99718961],\n",
       "        [0.99743477],\n",
       "        [0.99739999]]), 2355: array([[0.99572196],\n",
       "        [0.99555778],\n",
       "        [0.99573975]]), 2408: array([[0.99344242],\n",
       "        [0.99336795],\n",
       "        [0.99342167]]), 2493: array([[0.99644017],\n",
       "        [0.99671526],\n",
       "        [0.99655421]]), 2625: array([[0.99584686],\n",
       "        [0.99583933],\n",
       "        [0.99614698]]), 2902: array([[0.99737697],\n",
       "        [0.99705938],\n",
       "        [0.99696144]])}"
      ]
     },
     "execution_count": 147,
     "metadata": {},
     "output_type": "execute_result"
    }
   ],
   "source": [
    "logit_cv_150users.scores_"
   ]
  },
  {
   "cell_type": "markdown",
   "metadata": {},
   "source": [
    "**Compare mean accuracy on cross-validation for each user identification problem separately.**"
   ]
  },
  {
   "cell_type": "code",
   "execution_count": 150,
   "metadata": {},
   "outputs": [
    {
     "name": "stdout",
     "output_type": "stream",
     "text": [
      "User 6, CV score: 0.9958605417956022\n",
      "User 13, CV score: 0.9962988437657018\n",
      "User 15, CV score: 0.9952144941616708\n",
      "User 16, CV score: 0.9918053357013745\n",
      "User 28, CV score: 0.990126289191399\n",
      "User 31, CV score: 0.994494992675945\n",
      "User 33, CV score: 0.9936609787358054\n",
      "User 39, CV score: 0.9860497214718689\n",
      "User 46, CV score: 0.9980919658794004\n",
      "User 49, CV score: 0.9950791363690957\n",
      "User 50, CV score: 0.9944639254428281\n",
      "User 53, CV score: 0.9937132821275779\n",
      "User 65, CV score: 0.9969139510553036\n",
      "User 66, CV score: 0.9949329556438827\n",
      "User 82, CV score: 0.9963716258753559\n",
      "User 85, CV score: 0.9963093562623891\n",
      "User 89, CV score: 0.9906269213247908\n",
      "User 92, CV score: 0.9943907103744326\n",
      "User 100, CV score: 0.9947243924629983\n",
      "User 102, CV score: 0.9912421564512733\n",
      "User 103, CV score: 0.9805034317559714\n",
      "User 105, CV score: 0.9968931236551741\n",
      "User 106, CV score: 0.9946300536046052\n",
      "User 118, CV score: 0.9907833941753709\n",
      "User 119, CV score: 0.9965907528972139\n",
      "User 120, CV score: 0.9942657008915537\n",
      "User 126, CV score: 0.9950267864730801\n",
      "User 127, CV score: 0.991168075465395\n",
      "User 128, CV score: 0.9846214804086832\n",
      "User 138, CV score: 0.9972369700322262\n",
      "User 158, CV score: 0.9970911888595005\n",
      "User 160, CV score: 0.9968304636957597\n",
      "User 165, CV score: 0.9973310115526575\n",
      "User 172, CV score: 0.9965803541913251\n",
      "User 177, CV score: 0.9968722207105437\n",
      "User 203, CV score: 0.9973828301673558\n",
      "User 207, CV score: 0.9876138539791811\n",
      "User 223, CV score: 0.9965280130273019\n",
      "User 233, CV score: 0.9962778517045345\n",
      "User 235, CV score: 0.9967053404220824\n",
      "User 236, CV score: 0.990210002236353\n",
      "User 237, CV score: 0.989271325328339\n",
      "User 238, CV score: 0.9962361315139076\n",
      "User 240, CV score: 0.995840005945298\n",
      "User 241, CV score: 0.9960590113924587\n",
      "User 242, CV score: 0.9950267627469117\n",
      "User 245, CV score: 0.9961318409544493\n",
      "User 246, CV score: 0.9970493088478786\n",
      "User 249, CV score: 0.9952040010251554\n",
      "User 252, CV score: 0.9964655642331682\n",
      "User 254, CV score: 0.9918988192704643\n",
      "User 256, CV score: 0.9960589828262473\n",
      "User 258, CV score: 0.9958294367902347\n",
      "User 259, CV score: 0.9950267298147041\n",
      "User 260, CV score: 0.9972788544098444\n",
      "User 261, CV score: 0.9896365918852567\n",
      "User 263, CV score: 0.9927536979089372\n",
      "User 264, CV score: 0.9966323229469322\n",
      "User 269, CV score: 0.987019455458867\n",
      "User 270, CV score: 0.9892092765607391\n",
      "User 273, CV score: 0.9944011240744972\n",
      "User 287, CV score: 0.9904284342639494\n",
      "User 294, CV score: 0.9958502922825286\n",
      "User 298, CV score: 0.9911276260588275\n",
      "User 301, CV score: 0.997195277459717\n",
      "User 308, CV score: 0.9956733179359922\n",
      "User 315, CV score: 0.9975499327233246\n",
      "User 318, CV score: 0.9959026092463367\n",
      "User 327, CV score: 0.996611448568513\n",
      "User 332, CV score: 0.9967366614327737\n",
      "User 333, CV score: 0.9961421549097977\n",
      "User 339, CV score: 0.9970076540476199\n",
      "User 340, CV score: 0.9966741424082288\n",
      "User 342, CV score: 0.9922326093616919\n",
      "User 344, CV score: 0.9967783109189426\n",
      "User 351, CV score: 0.9923888889850229\n",
      "User 356, CV score: 0.9976540542557486\n",
      "User 361, CV score: 0.9965073178300496\n",
      "User 363, CV score: 0.996413223543192\n",
      "User 411, CV score: 0.9910435502855437\n",
      "User 417, CV score: 0.99678882341563\n",
      "User 425, CV score: 0.9942342810842396\n",
      "User 430, CV score: 0.9961736875598168\n",
      "User 435, CV score: 0.997039012830562\n",
      "User 436, CV score: 0.9952352319712165\n",
      "User 440, CV score: 0.9970285473121644\n",
      "User 444, CV score: 0.9977061789404011\n",
      "User 475, CV score: 0.9893028913846124\n",
      "User 476, CV score: 0.996861831210694\n",
      "User 486, CV score: 0.995360345564808\n",
      "User 515, CV score: 0.9941821287814695\n",
      "User 533, CV score: 0.993692171909616\n",
      "User 561, CV score: 0.9845690114077792\n",
      "User 563, CV score: 0.9968408628756952\n",
      "User 564, CV score: 0.9955896988476182\n",
      "User 568, CV score: 0.9918990590019566\n",
      "User 569, CV score: 0.9893345567115555\n",
      "User 570, CV score: 0.9983214649371229\n",
      "User 573, CV score: 0.9908142773872778\n",
      "User 575, CV score: 0.9900222940737154\n",
      "User 576, CV score: 0.9942761237976577\n",
      "User 580, CV score: 0.986602522324347\n",
      "User 583, CV score: 0.9807531455998683\n",
      "User 584, CV score: 0.9812431862741686\n",
      "User 600, CV score: 0.9914925492475873\n",
      "User 603, CV score: 0.9956730070259949\n",
      "User 605, CV score: 0.9973829856223545\n",
      "User 640, CV score: 0.9972371438993033\n",
      "User 647, CV score: 0.9975605062443841\n",
      "User 653, CV score: 0.9973204573917703\n",
      "User 664, CV score: 0.9953289732098304\n",
      "User 665, CV score: 0.9970702718687875\n",
      "User 677, CV score: 0.9966324357896372\n",
      "User 692, CV score: 0.9970076918198706\n",
      "User 697, CV score: 0.9958709458155809\n",
      "User 705, CV score: 0.9964969138100711\n",
      "User 722, CV score: 0.9946618216201203\n",
      "User 740, CV score: 0.9966327607457166\n",
      "User 741, CV score: 0.9968514223506725\n",
      "User 756, CV score: 0.9956209767719691\n",
      "User 780, CV score: 0.9963612310614165\n",
      "User 784, CV score: 0.9966635495269971\n",
      "User 785, CV score: 0.9971223733013185\n",
      "User 797, CV score: 0.9957565418378755\n",
      "User 812, CV score: 0.9947557081595999\n",
      "User 844, CV score: 0.9968827288412349\n",
      "User 859, CV score: 0.9981126329844882\n",
      "User 868, CV score: 0.9966636953019097\n",
      "User 875, CV score: 0.9955061034854121\n",
      "User 932, CV score: 0.9903450219748601\n",
      "User 996, CV score: 0.9930980983453813\n",
      "User 1014, CV score: 0.9970493839183331\n",
      "User 1040, CV score: 0.99694524786578\n",
      "User 1054, CV score: 0.9965282944229941\n",
      "User 1248, CV score: 0.9977376549320444\n",
      "User 1267, CV score: 0.9973726523068341\n",
      "User 1299, CV score: 0.9970493132138748\n",
      "User 1371, CV score: 0.993369102062454\n",
      "User 1797, CV score: 0.9946828093152913\n",
      "User 1798, CV score: 0.9963614330206582\n",
      "User 1993, CV score: 0.9967781370518655\n",
      "User 2118, CV score: 0.9976958872890807\n",
      "User 2174, CV score: 0.9955378235745438\n",
      "User 2191, CV score: 0.9952247339946583\n",
      "User 2250, CV score: 0.9973414586589766\n",
      "User 2355, CV score: 0.9956731624809936\n",
      "User 2408, CV score: 0.9934106808441646\n",
      "User 2493, CV score: 0.9965698794668884\n",
      "User 2625, CV score: 0.9959443909353826\n",
      "User 2902, CV score: 0.9971325937741341\n"
     ]
    }
   ],
   "source": [
    "cv_scores_by_user = {}\n",
    "for user_id in logit_cv_150users.scores_:\n",
    "    print('User {}, CV score: {}'.format(user_id, logit_cv_150users.scores_[user_id].mean()))"
   ]
  },
  {
   "cell_type": "markdown",
   "metadata": {},
   "source": [
    "**Accuracy could seem impressive, but, perhaps, we forget about class disbalance and high accuracy could just be obtained with a constant prediction.  Evaluate the difference between accuracy on cross-validation (we've just evaluated using `LogisticRegressionCV`) and the fraction of labels which differ from user_id (that's the accuracy we get if classificator always says that it is not the $i$-th user in classification task $i$-vs-All) for each user in `y_train_150`.**"
   ]
  },
  {
   "cell_type": "code",
   "execution_count": 169,
   "metadata": {},
   "outputs": [],
   "source": [
    "class_distr = np.bincount(y_train_150.astype('int'))\n",
    "acc_diff_vs_constant = []\n",
    "\n",
    "for user_id in np.unique(y_train_150):\n",
    "    ''' YOUR CODE IS HERE '''\n",
    "    not_user_frac = (class_distr.sum() - class_distr[user_id]) / class_distr.sum()\n",
    "    acc_diff_vs_constant.append(logit_cv_150users.scores_[user_id].mean() - not_user_frac)"
   ]
  },
  {
   "cell_type": "code",
   "execution_count": 171,
   "metadata": {},
   "outputs": [],
   "source": [
    "num_better_than_default = (np.array(acc_diff_vs_constant) > 0).sum()"
   ]
  },
  {
   "cell_type": "code",
   "execution_count": 173,
   "metadata": {},
   "outputs": [
    {
     "data": {
      "text/plain": [
       "0.8733333333333333"
      ]
     },
     "execution_count": 173,
     "metadata": {},
     "output_type": "execute_result"
    }
   ],
   "source": [
    "num_better_than_default / len(acc_diff_vs_constant)"
   ]
  },
  {
   "cell_type": "markdown",
   "metadata": {},
   "source": [
    "**<font color='red'>Question 7. </font> Evaluate the fraction of users where `LogisticRegressionCV` performs better than just a constant prediction. Round your answer up to the third digit after the decimal point.**"
   ]
  },
  {
   "cell_type": "code",
   "execution_count": null,
   "metadata": {
    "collapsed": true
   },
   "outputs": [],
   "source": [
    "''' YOUR CODE IS HERE '''"
   ]
  },
  {
   "cell_type": "markdown",
   "metadata": {},
   "source": [
    "**Next step is to plot learning curves for a particular user, let's say for 128-th. Make a new binary vector using `y_150users`, its values are 1 or 0 depending on whether user_id=128 or not.**"
   ]
  },
  {
   "cell_type": "code",
   "execution_count": null,
   "metadata": {
    "collapsed": true
   },
   "outputs": [],
   "source": [
    "y_binary_128 = ''' YOUR CODE IS HERE '''"
   ]
  },
  {
   "cell_type": "code",
   "execution_count": null,
   "metadata": {
    "collapsed": true
   },
   "outputs": [],
   "source": [
    "from sklearn.model_selection import learning_curve\n",
    "\n",
    "def plot_learning_curve(val_train, val_test, train_sizes, \n",
    "                        xlabel='Training Set Size', ylabel='score'):\n",
    "    def plot_with_err(x, data, **kwargs):\n",
    "        mu, std = data.mean(1), data.std(1)\n",
    "        lines = plt.plot(x, mu, '-', **kwargs)\n",
    "        plt.fill_between(x, mu - std, mu + std, edgecolor='none',\n",
    "                         facecolor=lines[0].get_color(), alpha=0.2)\n",
    "    plot_with_err(train_sizes, val_train, label='train')\n",
    "    plot_with_err(train_sizes, val_test, label='valid')\n",
    "    plt.xlabel(xlabel); plt.ylabel(ylabel)\n",
    "    plt.legend(loc='lower right');"
   ]
  },
  {
   "cell_type": "markdown",
   "metadata": {},
   "source": [
    "**Evaluate accuracy on cross-validation at \"user128-vs-All\" task depending on train size. It would be useful to check the documentation for `learning_curve`.**"
   ]
  },
  {
   "cell_type": "code",
   "execution_count": null,
   "metadata": {
    "collapsed": true
   },
   "outputs": [],
   "source": [
    "%%time\n",
    "train_sizes = np.linspace(0.25, 1, 20)\n",
    "estimator = svm_grid_searcher2.best_estimator_\n",
    "n_train, val_train, val_test = learning_curve ''' YOUR CODE IS HERE '''"
   ]
  },
  {
   "cell_type": "code",
   "execution_count": null,
   "metadata": {
    "collapsed": true
   },
   "outputs": [],
   "source": [
    "plot_learning_curve(val_train, val_test, n_train, \n",
    "                    xlabel='train_size', ylabel='accuracy')"
   ]
  },
  {
   "cell_type": "markdown",
   "metadata": {},
   "source": [
    "**Make a conclusion whether new data helps to improve the model's accuracy with the same problem definition.**"
   ]
  },
  {
   "cell_type": "markdown",
   "metadata": {},
   "source": [
    "Next week, we will recall linear models trained with stochastic gradient descend, and enjoy how faster they work."
   ]
  }
 ],
 "metadata": {
  "anaconda-cloud": {},
  "kernelspec": {
   "display_name": "Python 3",
   "language": "python",
   "name": "python3"
  },
  "language_info": {
   "codemirror_mode": {
    "name": "ipython",
    "version": 3
   },
   "file_extension": ".py",
   "mimetype": "text/x-python",
   "name": "python",
   "nbconvert_exporter": "python",
   "pygments_lexer": "ipython3",
   "version": "3.7.0"
  }
 },
 "nbformat": 4,
 "nbformat_minor": 1
}
